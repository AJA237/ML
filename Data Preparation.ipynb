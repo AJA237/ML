{
 "cells": [
  {
   "cell_type": "code",
   "execution_count": 1,
   "id": "613d8736",
   "metadata": {},
   "outputs": [],
   "source": [
    "import numpy as np\n",
    "import pandas as pd\n",
    "import matplotlib.pyplot as plt\n",
    "import seaborn as sns"
   ]
  },
  {
   "cell_type": "code",
   "execution_count": 2,
   "id": "8018a287",
   "metadata": {},
   "outputs": [
    {
     "data": {
      "text/html": [
       "<div>\n",
       "<style scoped>\n",
       "    .dataframe tbody tr th:only-of-type {\n",
       "        vertical-align: middle;\n",
       "    }\n",
       "\n",
       "    .dataframe tbody tr th {\n",
       "        vertical-align: top;\n",
       "    }\n",
       "\n",
       "    .dataframe thead th {\n",
       "        text-align: right;\n",
       "    }\n",
       "</style>\n",
       "<table border=\"1\" class=\"dataframe\">\n",
       "  <thead>\n",
       "    <tr style=\"text-align: right;\">\n",
       "      <th></th>\n",
       "      <th>TransactionID</th>\n",
       "      <th>isFraud</th>\n",
       "      <th>TransactionDT</th>\n",
       "      <th>TransactionAmt</th>\n",
       "      <th>ProductCD</th>\n",
       "      <th>card1</th>\n",
       "      <th>card2</th>\n",
       "      <th>card3</th>\n",
       "      <th>card4</th>\n",
       "      <th>card5</th>\n",
       "      <th>...</th>\n",
       "      <th>id_31</th>\n",
       "      <th>id_32</th>\n",
       "      <th>id_33</th>\n",
       "      <th>id_34</th>\n",
       "      <th>id_35</th>\n",
       "      <th>id_36</th>\n",
       "      <th>id_37</th>\n",
       "      <th>id_38</th>\n",
       "      <th>DeviceType</th>\n",
       "      <th>DeviceInfo</th>\n",
       "    </tr>\n",
       "  </thead>\n",
       "  <tbody>\n",
       "    <tr>\n",
       "      <th>19150</th>\n",
       "      <td>3313239</td>\n",
       "      <td>0</td>\n",
       "      <td>8035555</td>\n",
       "      <td>17.97</td>\n",
       "      <td>W</td>\n",
       "      <td>10748</td>\n",
       "      <td>455.0</td>\n",
       "      <td>150.0</td>\n",
       "      <td>visa</td>\n",
       "      <td>195.0</td>\n",
       "      <td>...</td>\n",
       "      <td>NaN</td>\n",
       "      <td>NaN</td>\n",
       "      <td>NaN</td>\n",
       "      <td>NaN</td>\n",
       "      <td>NaN</td>\n",
       "      <td>NaN</td>\n",
       "      <td>NaN</td>\n",
       "      <td>NaN</td>\n",
       "      <td>NaN</td>\n",
       "      <td>NaN</td>\n",
       "    </tr>\n",
       "    <tr>\n",
       "      <th>18252</th>\n",
       "      <td>3108407</td>\n",
       "      <td>0</td>\n",
       "      <td>2391905</td>\n",
       "      <td>25.00</td>\n",
       "      <td>H</td>\n",
       "      <td>6019</td>\n",
       "      <td>583.0</td>\n",
       "      <td>150.0</td>\n",
       "      <td>visa</td>\n",
       "      <td>226.0</td>\n",
       "      <td>...</td>\n",
       "      <td>samsung browser 6.2</td>\n",
       "      <td>32.0</td>\n",
       "      <td>NaN</td>\n",
       "      <td>match_status:2</td>\n",
       "      <td>T</td>\n",
       "      <td>F</td>\n",
       "      <td>T</td>\n",
       "      <td>T</td>\n",
       "      <td>mobile</td>\n",
       "      <td>SAMSUNG SM-G955U Build/NRD90M</td>\n",
       "    </tr>\n",
       "    <tr>\n",
       "      <th>16431</th>\n",
       "      <td>3386785</td>\n",
       "      <td>0</td>\n",
       "      <td>10088135</td>\n",
       "      <td>167.00</td>\n",
       "      <td>W</td>\n",
       "      <td>3178</td>\n",
       "      <td>490.0</td>\n",
       "      <td>150.0</td>\n",
       "      <td>visa</td>\n",
       "      <td>226.0</td>\n",
       "      <td>...</td>\n",
       "      <td>NaN</td>\n",
       "      <td>NaN</td>\n",
       "      <td>NaN</td>\n",
       "      <td>NaN</td>\n",
       "      <td>NaN</td>\n",
       "      <td>NaN</td>\n",
       "      <td>NaN</td>\n",
       "      <td>NaN</td>\n",
       "      <td>NaN</td>\n",
       "      <td>NaN</td>\n",
       "    </tr>\n",
       "    <tr>\n",
       "      <th>10210</th>\n",
       "      <td>3142749</td>\n",
       "      <td>0</td>\n",
       "      <td>3241963</td>\n",
       "      <td>117.00</td>\n",
       "      <td>W</td>\n",
       "      <td>11690</td>\n",
       "      <td>111.0</td>\n",
       "      <td>150.0</td>\n",
       "      <td>visa</td>\n",
       "      <td>226.0</td>\n",
       "      <td>...</td>\n",
       "      <td>NaN</td>\n",
       "      <td>NaN</td>\n",
       "      <td>NaN</td>\n",
       "      <td>NaN</td>\n",
       "      <td>NaN</td>\n",
       "      <td>NaN</td>\n",
       "      <td>NaN</td>\n",
       "      <td>NaN</td>\n",
       "      <td>NaN</td>\n",
       "      <td>NaN</td>\n",
       "    </tr>\n",
       "    <tr>\n",
       "      <th>11078</th>\n",
       "      <td>3301013</td>\n",
       "      <td>0</td>\n",
       "      <td>7831093</td>\n",
       "      <td>100.00</td>\n",
       "      <td>R</td>\n",
       "      <td>18268</td>\n",
       "      <td>583.0</td>\n",
       "      <td>150.0</td>\n",
       "      <td>visa</td>\n",
       "      <td>226.0</td>\n",
       "      <td>...</td>\n",
       "      <td>ie 11.0 for desktop</td>\n",
       "      <td>24.0</td>\n",
       "      <td>1920x1080</td>\n",
       "      <td>match_status:2</td>\n",
       "      <td>T</td>\n",
       "      <td>F</td>\n",
       "      <td>T</td>\n",
       "      <td>T</td>\n",
       "      <td>desktop</td>\n",
       "      <td>Trident/7.0</td>\n",
       "    </tr>\n",
       "  </tbody>\n",
       "</table>\n",
       "<p>5 rows × 434 columns</p>\n",
       "</div>"
      ],
      "text/plain": [
       "       TransactionID  isFraud  TransactionDT  TransactionAmt ProductCD  card1  \\\n",
       "19150        3313239        0        8035555           17.97         W  10748   \n",
       "18252        3108407        0        2391905           25.00         H   6019   \n",
       "16431        3386785        0       10088135          167.00         W   3178   \n",
       "10210        3142749        0        3241963          117.00         W  11690   \n",
       "11078        3301013        0        7831093          100.00         R  18268   \n",
       "\n",
       "       card2  card3 card4  card5  ...                id_31  id_32      id_33  \\\n",
       "19150  455.0  150.0  visa  195.0  ...                  NaN    NaN        NaN   \n",
       "18252  583.0  150.0  visa  226.0  ...  samsung browser 6.2   32.0        NaN   \n",
       "16431  490.0  150.0  visa  226.0  ...                  NaN    NaN        NaN   \n",
       "10210  111.0  150.0  visa  226.0  ...                  NaN    NaN        NaN   \n",
       "11078  583.0  150.0  visa  226.0  ...  ie 11.0 for desktop   24.0  1920x1080   \n",
       "\n",
       "                id_34  id_35 id_36 id_37  id_38  DeviceType  \\\n",
       "19150             NaN    NaN   NaN   NaN    NaN         NaN   \n",
       "18252  match_status:2      T     F     T      T      mobile   \n",
       "16431             NaN    NaN   NaN   NaN    NaN         NaN   \n",
       "10210             NaN    NaN   NaN   NaN    NaN         NaN   \n",
       "11078  match_status:2      T     F     T      T     desktop   \n",
       "\n",
       "                          DeviceInfo  \n",
       "19150                            NaN  \n",
       "18252  SAMSUNG SM-G955U Build/NRD90M  \n",
       "16431                            NaN  \n",
       "10210                            NaN  \n",
       "11078                    Trident/7.0  \n",
       "\n",
       "[5 rows x 434 columns]"
      ]
     },
     "execution_count": 2,
     "metadata": {},
     "output_type": "execute_result"
    }
   ],
   "source": [
    "# importing my dataset\n",
    "data = pd.read_csv(\"../../dataset/fraud_data.csv\")\n",
    "data.sample(5) # looking at some random samples from the dataset to understand the content"
   ]
  },
  {
   "cell_type": "markdown",
   "id": "7b2d705b",
   "metadata": {},
   "source": [
    "# Data Understanding"
   ]
  },
  {
   "cell_type": "code",
   "execution_count": 214,
   "id": "d970529e",
   "metadata": {},
   "outputs": [
    {
     "name": "stdout",
     "output_type": "stream",
     "text": [
      "***** Columns with corresponding missing values *****\n",
      "card2           915\n",
      "card3           158\n",
      "card4           162\n",
      "card5           444\n",
      "card6           159\n",
      "              ...  \n",
      "id_36         44849\n",
      "id_37         44849\n",
      "id_38         44849\n",
      "DeviceType    44869\n",
      "DeviceInfo    47133\n",
      "Length: 414, dtype: int64\n",
      "***** Proportion with missing values *****\n",
      "card2         0.015494\n",
      "card3         0.002676\n",
      "card4         0.002743\n",
      "card5         0.007519\n",
      "card6         0.002692\n",
      "                ...   \n",
      "id_36         0.759457\n",
      "id_37         0.759457\n",
      "id_38         0.759457\n",
      "DeviceType    0.759796\n",
      "DeviceInfo    0.798134\n",
      "Length: 414, dtype: float64\n"
     ]
    }
   ],
   "source": [
    "# checking for missing values\n",
    "cols_with_missing = data.isnull().sum()\n",
    "print(\"*\"*5, \"Columns with corresponding missing values\", \"*\"*5)\n",
    "print(cols_with_missing[cols_with_missing > 0])\n",
    "print(\"*\"*5, \"Proportion with missing values\", \"*\"*5)\n",
    "print(cols_with_missing[cols_with_missing > 0]/data.shape[0])"
   ]
  },
  {
   "cell_type": "code",
   "execution_count": 215,
   "id": "088f40f6",
   "metadata": {},
   "outputs": [
    {
     "data": {
      "text/html": [
       "<div>\n",
       "<style scoped>\n",
       "    .dataframe tbody tr th:only-of-type {\n",
       "        vertical-align: middle;\n",
       "    }\n",
       "\n",
       "    .dataframe tbody tr th {\n",
       "        vertical-align: top;\n",
       "    }\n",
       "\n",
       "    .dataframe thead th {\n",
       "        text-align: right;\n",
       "    }\n",
       "</style>\n",
       "<table border=\"1\" class=\"dataframe\">\n",
       "  <thead>\n",
       "    <tr style=\"text-align: right;\">\n",
       "      <th></th>\n",
       "      <th>TransactionID</th>\n",
       "      <th>isFraud</th>\n",
       "      <th>TransactionDT</th>\n",
       "      <th>TransactionAmt</th>\n",
       "      <th>card1</th>\n",
       "      <th>card2</th>\n",
       "      <th>card3</th>\n",
       "      <th>card5</th>\n",
       "      <th>addr1</th>\n",
       "      <th>addr2</th>\n",
       "      <th>...</th>\n",
       "      <th>id_17</th>\n",
       "      <th>id_18</th>\n",
       "      <th>id_19</th>\n",
       "      <th>id_20</th>\n",
       "      <th>id_21</th>\n",
       "      <th>id_22</th>\n",
       "      <th>id_24</th>\n",
       "      <th>id_25</th>\n",
       "      <th>id_26</th>\n",
       "      <th>id_32</th>\n",
       "    </tr>\n",
       "  </thead>\n",
       "  <tbody>\n",
       "    <tr>\n",
       "      <th>count</th>\n",
       "      <td>5.905400e+04</td>\n",
       "      <td>59054.000000</td>\n",
       "      <td>5.905400e+04</td>\n",
       "      <td>59054.000000</td>\n",
       "      <td>59054.000000</td>\n",
       "      <td>58139.000000</td>\n",
       "      <td>58896.000000</td>\n",
       "      <td>58610.000000</td>\n",
       "      <td>52326.000000</td>\n",
       "      <td>52326.000000</td>\n",
       "      <td>...</td>\n",
       "      <td>14061.00000</td>\n",
       "      <td>4511.000000</td>\n",
       "      <td>14059.000000</td>\n",
       "      <td>14054.000000</td>\n",
       "      <td>525.000000</td>\n",
       "      <td>525.000000</td>\n",
       "      <td>487.000000</td>\n",
       "      <td>524.000000</td>\n",
       "      <td>525.000000</td>\n",
       "      <td>7715.000000</td>\n",
       "    </tr>\n",
       "    <tr>\n",
       "      <th>mean</th>\n",
       "      <td>3.282166e+06</td>\n",
       "      <td>0.033952</td>\n",
       "      <td>7.368220e+06</td>\n",
       "      <td>134.142888</td>\n",
       "      <td>9910.366360</td>\n",
       "      <td>362.438054</td>\n",
       "      <td>153.264551</td>\n",
       "      <td>199.104231</td>\n",
       "      <td>290.653939</td>\n",
       "      <td>86.806616</td>\n",
       "      <td>...</td>\n",
       "      <td>189.89958</td>\n",
       "      <td>14.238750</td>\n",
       "      <td>351.767622</td>\n",
       "      <td>404.594777</td>\n",
       "      <td>385.257143</td>\n",
       "      <td>15.748571</td>\n",
       "      <td>12.739220</td>\n",
       "      <td>326.225191</td>\n",
       "      <td>148.794286</td>\n",
       "      <td>26.499028</td>\n",
       "    </tr>\n",
       "    <tr>\n",
       "      <th>std</th>\n",
       "      <td>1.702573e+05</td>\n",
       "      <td>0.181107</td>\n",
       "      <td>4.612063e+06</td>\n",
       "      <td>233.112295</td>\n",
       "      <td>4893.704524</td>\n",
       "      <td>157.360648</td>\n",
       "      <td>11.395609</td>\n",
       "      <td>41.296438</td>\n",
       "      <td>101.796538</td>\n",
       "      <td>2.639572</td>\n",
       "      <td>...</td>\n",
       "      <td>30.34787</td>\n",
       "      <td>1.524658</td>\n",
       "      <td>141.600677</td>\n",
       "      <td>152.201538</td>\n",
       "      <td>213.565534</td>\n",
       "      <td>6.496154</td>\n",
       "      <td>2.275238</td>\n",
       "      <td>97.662855</td>\n",
       "      <td>31.168092</td>\n",
       "      <td>3.739140</td>\n",
       "    </tr>\n",
       "    <tr>\n",
       "      <th>min</th>\n",
       "      <td>2.987019e+06</td>\n",
       "      <td>0.000000</td>\n",
       "      <td>8.673000e+04</td>\n",
       "      <td>0.292000</td>\n",
       "      <td>1008.000000</td>\n",
       "      <td>100.000000</td>\n",
       "      <td>100.000000</td>\n",
       "      <td>100.000000</td>\n",
       "      <td>100.000000</td>\n",
       "      <td>13.000000</td>\n",
       "      <td>...</td>\n",
       "      <td>100.00000</td>\n",
       "      <td>11.000000</td>\n",
       "      <td>100.000000</td>\n",
       "      <td>100.000000</td>\n",
       "      <td>114.000000</td>\n",
       "      <td>14.000000</td>\n",
       "      <td>11.000000</td>\n",
       "      <td>100.000000</td>\n",
       "      <td>100.000000</td>\n",
       "      <td>0.000000</td>\n",
       "    </tr>\n",
       "    <tr>\n",
       "      <th>25%</th>\n",
       "      <td>3.135748e+06</td>\n",
       "      <td>0.000000</td>\n",
       "      <td>3.074217e+06</td>\n",
       "      <td>42.950000</td>\n",
       "      <td>6019.000000</td>\n",
       "      <td>215.000000</td>\n",
       "      <td>150.000000</td>\n",
       "      <td>166.000000</td>\n",
       "      <td>204.000000</td>\n",
       "      <td>87.000000</td>\n",
       "      <td>...</td>\n",
       "      <td>166.00000</td>\n",
       "      <td>13.000000</td>\n",
       "      <td>266.000000</td>\n",
       "      <td>256.000000</td>\n",
       "      <td>252.000000</td>\n",
       "      <td>14.000000</td>\n",
       "      <td>11.000000</td>\n",
       "      <td>321.000000</td>\n",
       "      <td>119.000000</td>\n",
       "      <td>24.000000</td>\n",
       "    </tr>\n",
       "    <tr>\n",
       "      <th>50%</th>\n",
       "      <td>3.282062e+06</td>\n",
       "      <td>0.000000</td>\n",
       "      <td>7.288450e+06</td>\n",
       "      <td>68.017000</td>\n",
       "      <td>9749.000000</td>\n",
       "      <td>361.000000</td>\n",
       "      <td>150.000000</td>\n",
       "      <td>226.000000</td>\n",
       "      <td>299.000000</td>\n",
       "      <td>87.000000</td>\n",
       "      <td>...</td>\n",
       "      <td>166.00000</td>\n",
       "      <td>15.000000</td>\n",
       "      <td>339.000000</td>\n",
       "      <td>484.000000</td>\n",
       "      <td>252.000000</td>\n",
       "      <td>14.000000</td>\n",
       "      <td>11.000000</td>\n",
       "      <td>321.000000</td>\n",
       "      <td>147.000000</td>\n",
       "      <td>24.000000</td>\n",
       "    </tr>\n",
       "    <tr>\n",
       "      <th>75%</th>\n",
       "      <td>3.429699e+06</td>\n",
       "      <td>0.000000</td>\n",
       "      <td>1.123918e+07</td>\n",
       "      <td>117.000000</td>\n",
       "      <td>14223.000000</td>\n",
       "      <td>512.000000</td>\n",
       "      <td>150.000000</td>\n",
       "      <td>226.000000</td>\n",
       "      <td>330.000000</td>\n",
       "      <td>87.000000</td>\n",
       "      <td>...</td>\n",
       "      <td>225.00000</td>\n",
       "      <td>15.000000</td>\n",
       "      <td>427.000000</td>\n",
       "      <td>533.000000</td>\n",
       "      <td>554.000000</td>\n",
       "      <td>14.000000</td>\n",
       "      <td>15.000000</td>\n",
       "      <td>361.000000</td>\n",
       "      <td>169.000000</td>\n",
       "      <td>32.000000</td>\n",
       "    </tr>\n",
       "    <tr>\n",
       "      <th>max</th>\n",
       "      <td>3.577536e+06</td>\n",
       "      <td>1.000000</td>\n",
       "      <td>1.581105e+07</td>\n",
       "      <td>5279.950000</td>\n",
       "      <td>18390.000000</td>\n",
       "      <td>600.000000</td>\n",
       "      <td>229.000000</td>\n",
       "      <td>237.000000</td>\n",
       "      <td>536.000000</td>\n",
       "      <td>102.000000</td>\n",
       "      <td>...</td>\n",
       "      <td>225.00000</td>\n",
       "      <td>29.000000</td>\n",
       "      <td>670.000000</td>\n",
       "      <td>660.000000</td>\n",
       "      <td>854.000000</td>\n",
       "      <td>43.000000</td>\n",
       "      <td>24.000000</td>\n",
       "      <td>548.000000</td>\n",
       "      <td>216.000000</td>\n",
       "      <td>32.000000</td>\n",
       "    </tr>\n",
       "  </tbody>\n",
       "</table>\n",
       "<p>8 rows × 403 columns</p>\n",
       "</div>"
      ],
      "text/plain": [
       "       TransactionID       isFraud  TransactionDT  TransactionAmt  \\\n",
       "count   5.905400e+04  59054.000000   5.905400e+04    59054.000000   \n",
       "mean    3.282166e+06      0.033952   7.368220e+06      134.142888   \n",
       "std     1.702573e+05      0.181107   4.612063e+06      233.112295   \n",
       "min     2.987019e+06      0.000000   8.673000e+04        0.292000   \n",
       "25%     3.135748e+06      0.000000   3.074217e+06       42.950000   \n",
       "50%     3.282062e+06      0.000000   7.288450e+06       68.017000   \n",
       "75%     3.429699e+06      0.000000   1.123918e+07      117.000000   \n",
       "max     3.577536e+06      1.000000   1.581105e+07     5279.950000   \n",
       "\n",
       "              card1         card2         card3         card5         addr1  \\\n",
       "count  59054.000000  58139.000000  58896.000000  58610.000000  52326.000000   \n",
       "mean    9910.366360    362.438054    153.264551    199.104231    290.653939   \n",
       "std     4893.704524    157.360648     11.395609     41.296438    101.796538   \n",
       "min     1008.000000    100.000000    100.000000    100.000000    100.000000   \n",
       "25%     6019.000000    215.000000    150.000000    166.000000    204.000000   \n",
       "50%     9749.000000    361.000000    150.000000    226.000000    299.000000   \n",
       "75%    14223.000000    512.000000    150.000000    226.000000    330.000000   \n",
       "max    18390.000000    600.000000    229.000000    237.000000    536.000000   \n",
       "\n",
       "              addr2  ...        id_17        id_18         id_19  \\\n",
       "count  52326.000000  ...  14061.00000  4511.000000  14059.000000   \n",
       "mean      86.806616  ...    189.89958    14.238750    351.767622   \n",
       "std        2.639572  ...     30.34787     1.524658    141.600677   \n",
       "min       13.000000  ...    100.00000    11.000000    100.000000   \n",
       "25%       87.000000  ...    166.00000    13.000000    266.000000   \n",
       "50%       87.000000  ...    166.00000    15.000000    339.000000   \n",
       "75%       87.000000  ...    225.00000    15.000000    427.000000   \n",
       "max      102.000000  ...    225.00000    29.000000    670.000000   \n",
       "\n",
       "              id_20       id_21       id_22       id_24       id_25  \\\n",
       "count  14054.000000  525.000000  525.000000  487.000000  524.000000   \n",
       "mean     404.594777  385.257143   15.748571   12.739220  326.225191   \n",
       "std      152.201538  213.565534    6.496154    2.275238   97.662855   \n",
       "min      100.000000  114.000000   14.000000   11.000000  100.000000   \n",
       "25%      256.000000  252.000000   14.000000   11.000000  321.000000   \n",
       "50%      484.000000  252.000000   14.000000   11.000000  321.000000   \n",
       "75%      533.000000  554.000000   14.000000   15.000000  361.000000   \n",
       "max      660.000000  854.000000   43.000000   24.000000  548.000000   \n",
       "\n",
       "            id_26        id_32  \n",
       "count  525.000000  7715.000000  \n",
       "mean   148.794286    26.499028  \n",
       "std     31.168092     3.739140  \n",
       "min    100.000000     0.000000  \n",
       "25%    119.000000    24.000000  \n",
       "50%    147.000000    24.000000  \n",
       "75%    169.000000    32.000000  \n",
       "max    216.000000    32.000000  \n",
       "\n",
       "[8 rows x 403 columns]"
      ]
     },
     "execution_count": 215,
     "metadata": {},
     "output_type": "execute_result"
    }
   ],
   "source": [
    "# Descriptive statistics of numeric columns\n",
    "data.describe()"
   ]
  },
  {
   "cell_type": "code",
   "execution_count": 216,
   "id": "28f15511",
   "metadata": {},
   "outputs": [
    {
     "name": "stdout",
     "output_type": "stream",
     "text": [
      "***** Unique Values of Card4 *****\n",
      "card4\n",
      "visa                38343\n",
      "mastercard          19042\n",
      "american express      831\n",
      "discover              676\n",
      "Name: count, dtype: int64\n",
      "***** Proportions *****\n",
      "card4\n",
      "visa                65.107315\n",
      "mastercard          32.333763\n",
      "american express     1.411058\n",
      "discover             1.147864\n",
      "Name: proportion, dtype: float64\n",
      "isFraud\n",
      "0    57049\n",
      "1     2005\n",
      "Name: count, dtype: int64\n",
      "***** Unique Values of isFraud *****\n",
      "isFraud\n",
      "0    57049\n",
      "1     2005\n",
      "Name: count, dtype: int64\n",
      "***** Proportions *****\n",
      "isFraud\n",
      "0    96.604802\n",
      "1     3.395198\n",
      "Name: proportion, dtype: float64\n"
     ]
    },
    {
     "data": {
      "text/plain": [
       "<Axes: ylabel='count'>"
      ]
     },
     "execution_count": 216,
     "metadata": {},
     "output_type": "execute_result"
    },
    {
     "data": {
      "image/png": "[encoded data removed]",
      "text/plain": [
       "<Figure size 640x480 with 1 Axes>"
      ]
     },
     "metadata": {},
     "output_type": "display_data"
    }
   ],
   "source": [
    "# understanding unique values in the card4 column\n",
    "print(\"*\"*5, \"Unique Values of Card4\",\"*\"*5)\n",
    "print(data[\"card4\"].value_counts())\n",
    "print(\"*\"*5, \"Proportions\",\"*\"*5)\n",
    "print(data[\"card4\"].value_counts(normalize=True)*100)\n",
    "print(data.isFraud.value_counts())\n",
    "print(\"*\"*5, \"Unique Values of isFraud\",\"*\"*5)\n",
    "print(data.isFraud.value_counts())\n",
    "print(\"*\"*5, \"Proportions\",\"*\"*5)\n",
    "print(data.isFraud.value_counts(normalize=True)*100)\n",
    "sns.countplot(data.isFraud)"
   ]
  },
  {
   "cell_type": "code",
   "execution_count": 217,
   "id": "bd636224",
   "metadata": {},
   "outputs": [],
   "source": [
    "# Deleting unwanted columns\n",
    "# data.drop([data[cols_with_missing]/data.shape[0] > 0.7])\n",
    "# refactoring the index to transaction id\n",
    "# data = data.set_index(\"TransactionID\")"
   ]
  },
  {
   "cell_type": "code",
   "execution_count": 218,
   "id": "0e0012c7",
   "metadata": {},
   "outputs": [],
   "source": [
    "from sklearn.impute import SimpleImputer\n",
    "\n",
    "categorical_imputer = SimpleImputer(missing_values=np.nan, strategy=\"most_frequent\")\n",
    "categorical_imputer = categorical_imputer.fit(data[[\"card4\"]])\n",
    "data[\"card4\"] = categorical_imputer.transform(data[[\"card4\"]]).ravel()"
   ]
  },
  {
   "cell_type": "code",
   "execution_count": 3,
   "id": "c942ef93",
   "metadata": {},
   "outputs": [
    {
     "data": {
      "text/html": [
       "<div>\n",
       "<style scoped>\n",
       "    .dataframe tbody tr th:only-of-type {\n",
       "        vertical-align: middle;\n",
       "    }\n",
       "\n",
       "    .dataframe tbody tr th {\n",
       "        vertical-align: top;\n",
       "    }\n",
       "\n",
       "    .dataframe thead th {\n",
       "        text-align: right;\n",
       "    }\n",
       "</style>\n",
       "<table border=\"1\" class=\"dataframe\">\n",
       "  <thead>\n",
       "    <tr style=\"text-align: right;\">\n",
       "      <th></th>\n",
       "      <th>TransactionID</th>\n",
       "      <th>isFraud</th>\n",
       "      <th>TransactionDT</th>\n",
       "      <th>TransactionAmt</th>\n",
       "      <th>ProductCD</th>\n",
       "      <th>card1</th>\n",
       "      <th>card2</th>\n",
       "      <th>card3</th>\n",
       "      <th>card4</th>\n",
       "      <th>card5</th>\n",
       "      <th>...</th>\n",
       "      <th>id_31</th>\n",
       "      <th>id_32</th>\n",
       "      <th>id_33</th>\n",
       "      <th>id_34</th>\n",
       "      <th>id_35</th>\n",
       "      <th>id_36</th>\n",
       "      <th>id_37</th>\n",
       "      <th>id_38</th>\n",
       "      <th>DeviceType</th>\n",
       "      <th>DeviceInfo</th>\n",
       "    </tr>\n",
       "  </thead>\n",
       "  <tbody>\n",
       "    <tr>\n",
       "      <th>0</th>\n",
       "      <td>2994681</td>\n",
       "      <td>0</td>\n",
       "      <td>242834</td>\n",
       "      <td>25.000</td>\n",
       "      <td>H</td>\n",
       "      <td>9803</td>\n",
       "      <td>583.0</td>\n",
       "      <td>150.0</td>\n",
       "      <td>visa</td>\n",
       "      <td>226.0</td>\n",
       "      <td>...</td>\n",
       "      <td>firefox 56.0</td>\n",
       "      <td>24.0</td>\n",
       "      <td>1920x1080</td>\n",
       "      <td>match_status:2</td>\n",
       "      <td>T</td>\n",
       "      <td>F</td>\n",
       "      <td>T</td>\n",
       "      <td>T</td>\n",
       "      <td>desktop</td>\n",
       "      <td>rv:56.0</td>\n",
       "    </tr>\n",
       "    <tr>\n",
       "      <th>1</th>\n",
       "      <td>3557242</td>\n",
       "      <td>0</td>\n",
       "      <td>15123000</td>\n",
       "      <td>117.000</td>\n",
       "      <td>W</td>\n",
       "      <td>7919</td>\n",
       "      <td>194.0</td>\n",
       "      <td>150.0</td>\n",
       "      <td>mastercard</td>\n",
       "      <td>166.0</td>\n",
       "      <td>...</td>\n",
       "      <td>NaN</td>\n",
       "      <td>NaN</td>\n",
       "      <td>NaN</td>\n",
       "      <td>NaN</td>\n",
       "      <td>NaN</td>\n",
       "      <td>NaN</td>\n",
       "      <td>NaN</td>\n",
       "      <td>NaN</td>\n",
       "      <td>NaN</td>\n",
       "      <td>NaN</td>\n",
       "    </tr>\n",
       "    <tr>\n",
       "      <th>2</th>\n",
       "      <td>3327470</td>\n",
       "      <td>0</td>\n",
       "      <td>8378575</td>\n",
       "      <td>73.773</td>\n",
       "      <td>C</td>\n",
       "      <td>12778</td>\n",
       "      <td>500.0</td>\n",
       "      <td>185.0</td>\n",
       "      <td>mastercard</td>\n",
       "      <td>224.0</td>\n",
       "      <td>...</td>\n",
       "      <td>NaN</td>\n",
       "      <td>NaN</td>\n",
       "      <td>NaN</td>\n",
       "      <td>NaN</td>\n",
       "      <td>NaN</td>\n",
       "      <td>NaN</td>\n",
       "      <td>NaN</td>\n",
       "      <td>NaN</td>\n",
       "      <td>NaN</td>\n",
       "      <td>NaN</td>\n",
       "    </tr>\n",
       "    <tr>\n",
       "      <th>3</th>\n",
       "      <td>3118781</td>\n",
       "      <td>0</td>\n",
       "      <td>2607840</td>\n",
       "      <td>400.000</td>\n",
       "      <td>R</td>\n",
       "      <td>12316</td>\n",
       "      <td>548.0</td>\n",
       "      <td>150.0</td>\n",
       "      <td>visa</td>\n",
       "      <td>195.0</td>\n",
       "      <td>...</td>\n",
       "      <td>mobile safari generic</td>\n",
       "      <td>32.0</td>\n",
       "      <td>1136x640</td>\n",
       "      <td>match_status:2</td>\n",
       "      <td>T</td>\n",
       "      <td>F</td>\n",
       "      <td>T</td>\n",
       "      <td>F</td>\n",
       "      <td>mobile</td>\n",
       "      <td>iOS Device</td>\n",
       "    </tr>\n",
       "    <tr>\n",
       "      <th>4</th>\n",
       "      <td>3459772</td>\n",
       "      <td>0</td>\n",
       "      <td>12226544</td>\n",
       "      <td>31.950</td>\n",
       "      <td>W</td>\n",
       "      <td>9002</td>\n",
       "      <td>453.0</td>\n",
       "      <td>150.0</td>\n",
       "      <td>visa</td>\n",
       "      <td>226.0</td>\n",
       "      <td>...</td>\n",
       "      <td>NaN</td>\n",
       "      <td>NaN</td>\n",
       "      <td>NaN</td>\n",
       "      <td>NaN</td>\n",
       "      <td>NaN</td>\n",
       "      <td>NaN</td>\n",
       "      <td>NaN</td>\n",
       "      <td>NaN</td>\n",
       "      <td>NaN</td>\n",
       "      <td>NaN</td>\n",
       "    </tr>\n",
       "  </tbody>\n",
       "</table>\n",
       "<p>5 rows × 434 columns</p>\n",
       "</div>"
      ],
      "text/plain": [
       "   TransactionID  isFraud  TransactionDT  TransactionAmt ProductCD  card1  \\\n",
       "0        2994681        0         242834          25.000         H   9803   \n",
       "1        3557242        0       15123000         117.000         W   7919   \n",
       "2        3327470        0        8378575          73.773         C  12778   \n",
       "3        3118781        0        2607840         400.000         R  12316   \n",
       "4        3459772        0       12226544          31.950         W   9002   \n",
       "\n",
       "   card2  card3       card4  card5  ...                  id_31  id_32  \\\n",
       "0  583.0  150.0        visa  226.0  ...           firefox 56.0   24.0   \n",
       "1  194.0  150.0  mastercard  166.0  ...                    NaN    NaN   \n",
       "2  500.0  185.0  mastercard  224.0  ...                    NaN    NaN   \n",
       "3  548.0  150.0        visa  195.0  ...  mobile safari generic   32.0   \n",
       "4  453.0  150.0        visa  226.0  ...                    NaN    NaN   \n",
       "\n",
       "       id_33           id_34  id_35 id_36 id_37  id_38  DeviceType  DeviceInfo  \n",
       "0  1920x1080  match_status:2      T     F     T      T     desktop     rv:56.0  \n",
       "1        NaN             NaN    NaN   NaN   NaN    NaN         NaN         NaN  \n",
       "2        NaN             NaN    NaN   NaN   NaN    NaN         NaN         NaN  \n",
       "3   1136x640  match_status:2      T     F     T      F      mobile  iOS Device  \n",
       "4        NaN             NaN    NaN   NaN   NaN    NaN         NaN         NaN  \n",
       "\n",
       "[5 rows x 434 columns]"
      ]
     },
     "execution_count": 3,
     "metadata": {},
     "output_type": "execute_result"
    }
   ],
   "source": [
    "data.head()"
   ]
  },
  {
   "cell_type": "code",
   "execution_count": 220,
   "id": "2a9869c8",
   "metadata": {},
   "outputs": [],
   "source": [
    "# def outliers(s, k=1.5, return_threshold=False):\n",
    "#     # calculate the inter-quartile range\n",
    "#     q25, q75 = np.percentile(s, 25), np.percentile(s, 75)\n",
    "#     iqr = q75 - q25\n",
    "\n",
    "#     # calculate the outlier cutoff\n",
    "#     cutoff = iqr * k\n",
    "#     lower, upper = q25 - cutoff, q75 - cutoff\n",
    "#     print(lower, upper)\n",
    "#     if return_threshold:\n",
    "#         return lower, upper\n",
    "#     else: # identify the outlier\n",
    "#         return [True if x < lower or x > upper else False for x in s]"
   ]
  },
  {
   "cell_type": "code",
   "execution_count": 221,
   "id": "712b1cec",
   "metadata": {},
   "outputs": [
    {
     "data": {
      "text/plain": [
       "<Axes: xlabel='TransactionAmt', ylabel='card4'>"
      ]
     },
     "execution_count": 221,
     "metadata": {},
     "output_type": "execute_result"
    },
    {
     "data": {
      "image/png": "[encoded data removed]",
      "text/plain": [
       "<Figure size 640x480 with 1 Axes>"
      ]
     },
     "metadata": {},
     "output_type": "display_data"
    }
   ],
   "source": [
    "# IQR for card4\n",
    "sns.boxplot(x=\"TransactionAmt\",y=\"card4\", data=data, whis=1.5)"
   ]
  },
  {
   "cell_type": "code",
   "execution_count": 222,
   "id": "3c227854",
   "metadata": {},
   "outputs": [
    {
     "data": {
      "text/plain": [
       "(0, 5280, 1056)"
      ]
     },
     "execution_count": 222,
     "metadata": {},
     "output_type": "execute_result"
    }
   ],
   "source": [
    "# Determining the binning width\n",
    "amt_range = data.TransactionAmt.max() - data.TransactionAmt.min()\n",
    "min_value = int(np.floor(data.TransactionAmt.min()))\n",
    "max_value = int(np.ceil(data.TransactionAmt.max()))\n",
    "\n",
    "# rounding the bin width\n",
    "bin_value = int(np.round(amt_range/5))\n",
    "\n",
    "min_value, max_value, bin_value"
   ]
  },
  {
   "cell_type": "code",
   "execution_count": 223,
   "id": "aebe7a03",
   "metadata": {},
   "outputs": [],
   "source": [
    "# filling missing values of numerical columns with mean value\n",
    "num_cols = data.select_dtypes(include=np.number).columns\n",
    "data[num_cols] = data[num_cols].fillna(data[num_cols].mean())\n",
    "\n",
    "# getting all the categorical columns\n",
    "cat_cols = data.select_dtypes(include=\"object\").columns\n",
    "\n",
    "# fills the missing values with maximum occuring element in the columns\n",
    "data[cat_cols] = data[cat_cols].fillna(data[cat_cols].mode().iloc[0])"
   ]
  },
  {
   "cell_type": "code",
   "execution_count": 224,
   "id": "05d018bf",
   "metadata": {},
   "outputs": [
    {
     "data": {
      "text/html": [
       "<div>\n",
       "<style scoped>\n",
       "    .dataframe tbody tr th:only-of-type {\n",
       "        vertical-align: middle;\n",
       "    }\n",
       "\n",
       "    .dataframe tbody tr th {\n",
       "        vertical-align: top;\n",
       "    }\n",
       "\n",
       "    .dataframe thead th {\n",
       "        text-align: right;\n",
       "    }\n",
       "</style>\n",
       "<table border=\"1\" class=\"dataframe\">\n",
       "  <thead>\n",
       "    <tr style=\"text-align: right;\">\n",
       "      <th></th>\n",
       "      <th>TransactionID</th>\n",
       "      <th>isFraud</th>\n",
       "      <th>TransactionDT</th>\n",
       "      <th>TransactionAmt</th>\n",
       "      <th>card1</th>\n",
       "      <th>card2</th>\n",
       "      <th>card3</th>\n",
       "      <th>card5</th>\n",
       "      <th>addr1</th>\n",
       "      <th>addr2</th>\n",
       "      <th>...</th>\n",
       "      <th>DeviceInfo_rv:54.0</th>\n",
       "      <th>DeviceInfo_rv:55.0</th>\n",
       "      <th>DeviceInfo_rv:56.0</th>\n",
       "      <th>DeviceInfo_rv:57.0</th>\n",
       "      <th>DeviceInfo_rv:58.0</th>\n",
       "      <th>DeviceInfo_rv:59.0</th>\n",
       "      <th>DeviceInfo_rv:60.0</th>\n",
       "      <th>DeviceInfo_verykools4009</th>\n",
       "      <th>DeviceInfo_verykools5034</th>\n",
       "      <th>DeviceInfo_vivo</th>\n",
       "    </tr>\n",
       "  </thead>\n",
       "  <tbody>\n",
       "    <tr>\n",
       "      <th>25824</th>\n",
       "      <td>3037619</td>\n",
       "      <td>0</td>\n",
       "      <td>1196672</td>\n",
       "      <td>200.00</td>\n",
       "      <td>7164</td>\n",
       "      <td>399.0</td>\n",
       "      <td>150.0</td>\n",
       "      <td>150.0</td>\n",
       "      <td>476.0</td>\n",
       "      <td>87.0</td>\n",
       "      <td>...</td>\n",
       "      <td>False</td>\n",
       "      <td>False</td>\n",
       "      <td>False</td>\n",
       "      <td>False</td>\n",
       "      <td>False</td>\n",
       "      <td>False</td>\n",
       "      <td>False</td>\n",
       "      <td>False</td>\n",
       "      <td>False</td>\n",
       "      <td>False</td>\n",
       "    </tr>\n",
       "    <tr>\n",
       "      <th>56081</th>\n",
       "      <td>3095290</td>\n",
       "      <td>0</td>\n",
       "      <td>2142306</td>\n",
       "      <td>219.95</td>\n",
       "      <td>15537</td>\n",
       "      <td>555.0</td>\n",
       "      <td>150.0</td>\n",
       "      <td>195.0</td>\n",
       "      <td>272.0</td>\n",
       "      <td>87.0</td>\n",
       "      <td>...</td>\n",
       "      <td>False</td>\n",
       "      <td>False</td>\n",
       "      <td>False</td>\n",
       "      <td>False</td>\n",
       "      <td>False</td>\n",
       "      <td>False</td>\n",
       "      <td>False</td>\n",
       "      <td>False</td>\n",
       "      <td>False</td>\n",
       "      <td>False</td>\n",
       "    </tr>\n",
       "    <tr>\n",
       "      <th>43956</th>\n",
       "      <td>3535730</td>\n",
       "      <td>0</td>\n",
       "      <td>14493465</td>\n",
       "      <td>115.00</td>\n",
       "      <td>4571</td>\n",
       "      <td>584.0</td>\n",
       "      <td>150.0</td>\n",
       "      <td>117.0</td>\n",
       "      <td>325.0</td>\n",
       "      <td>87.0</td>\n",
       "      <td>...</td>\n",
       "      <td>False</td>\n",
       "      <td>False</td>\n",
       "      <td>False</td>\n",
       "      <td>False</td>\n",
       "      <td>False</td>\n",
       "      <td>False</td>\n",
       "      <td>False</td>\n",
       "      <td>False</td>\n",
       "      <td>False</td>\n",
       "      <td>False</td>\n",
       "    </tr>\n",
       "    <tr>\n",
       "      <th>29385</th>\n",
       "      <td>3530788</td>\n",
       "      <td>0</td>\n",
       "      <td>14339647</td>\n",
       "      <td>29.00</td>\n",
       "      <td>7999</td>\n",
       "      <td>140.0</td>\n",
       "      <td>150.0</td>\n",
       "      <td>226.0</td>\n",
       "      <td>204.0</td>\n",
       "      <td>87.0</td>\n",
       "      <td>...</td>\n",
       "      <td>False</td>\n",
       "      <td>False</td>\n",
       "      <td>False</td>\n",
       "      <td>False</td>\n",
       "      <td>False</td>\n",
       "      <td>False</td>\n",
       "      <td>False</td>\n",
       "      <td>False</td>\n",
       "      <td>False</td>\n",
       "      <td>False</td>\n",
       "    </tr>\n",
       "    <tr>\n",
       "      <th>29697</th>\n",
       "      <td>3071109</td>\n",
       "      <td>0</td>\n",
       "      <td>1795675</td>\n",
       "      <td>75.00</td>\n",
       "      <td>11207</td>\n",
       "      <td>361.0</td>\n",
       "      <td>150.0</td>\n",
       "      <td>226.0</td>\n",
       "      <td>330.0</td>\n",
       "      <td>87.0</td>\n",
       "      <td>...</td>\n",
       "      <td>False</td>\n",
       "      <td>False</td>\n",
       "      <td>False</td>\n",
       "      <td>False</td>\n",
       "      <td>False</td>\n",
       "      <td>False</td>\n",
       "      <td>False</td>\n",
       "      <td>False</td>\n",
       "      <td>False</td>\n",
       "      <td>False</td>\n",
       "    </tr>\n",
       "  </tbody>\n",
       "</table>\n",
       "<p>5 rows × 1667 columns</p>\n",
       "</div>"
      ],
      "text/plain": [
       "       TransactionID  isFraud  TransactionDT  TransactionAmt  card1  card2  \\\n",
       "25824        3037619        0        1196672          200.00   7164  399.0   \n",
       "56081        3095290        0        2142306          219.95  15537  555.0   \n",
       "43956        3535730        0       14493465          115.00   4571  584.0   \n",
       "29385        3530788        0       14339647           29.00   7999  140.0   \n",
       "29697        3071109        0        1795675           75.00  11207  361.0   \n",
       "\n",
       "       card3  card5  addr1  addr2  ...  DeviceInfo_rv:54.0  \\\n",
       "25824  150.0  150.0  476.0   87.0  ...               False   \n",
       "56081  150.0  195.0  272.0   87.0  ...               False   \n",
       "43956  150.0  117.0  325.0   87.0  ...               False   \n",
       "29385  150.0  226.0  204.0   87.0  ...               False   \n",
       "29697  150.0  226.0  330.0   87.0  ...               False   \n",
       "\n",
       "       DeviceInfo_rv:55.0  DeviceInfo_rv:56.0  DeviceInfo_rv:57.0  \\\n",
       "25824               False               False               False   \n",
       "56081               False               False               False   \n",
       "43956               False               False               False   \n",
       "29385               False               False               False   \n",
       "29697               False               False               False   \n",
       "\n",
       "       DeviceInfo_rv:58.0  DeviceInfo_rv:59.0  DeviceInfo_rv:60.0  \\\n",
       "25824               False               False               False   \n",
       "56081               False               False               False   \n",
       "43956               False               False               False   \n",
       "29385               False               False               False   \n",
       "29697               False               False               False   \n",
       "\n",
       "       DeviceInfo_verykools4009  DeviceInfo_verykools5034  DeviceInfo_vivo  \n",
       "25824                     False                     False            False  \n",
       "56081                     False                     False            False  \n",
       "43956                     False                     False            False  \n",
       "29385                     False                     False            False  \n",
       "29697                     False                     False            False  \n",
       "\n",
       "[5 rows x 1667 columns]"
      ]
     },
     "execution_count": 224,
     "metadata": {},
     "output_type": "execute_result"
    }
   ],
   "source": [
    "data = pd.get_dummies(data, columns=cat_cols)\n",
    "data.sample(5)"
   ]
  },
  {
   "cell_type": "code",
   "execution_count": 225,
   "id": "65f23b52",
   "metadata": {},
   "outputs": [],
   "source": [
    "# separating input features and output feature\n",
    "X = data.drop(columns=[\"isFraud\"]) # inputs\n",
    "Y = data.isFraud # output"
   ]
  },
  {
   "cell_type": "code",
   "execution_count": 226,
   "id": "fa81abd1",
   "metadata": {},
   "outputs": [],
   "source": [
    "from sklearn.preprocessing import StandardScaler\n",
    "scaled_features = StandardScaler().fit_transform(X)\n",
    "scaled_features = pd.DataFrame(data=scaled_features)\n",
    "scaled_features.columns = X.columns"
   ]
  },
  {
   "cell_type": "markdown",
   "id": "726f8982",
   "metadata": {},
   "source": [
    "# Splitting the data"
   ]
  },
  {
   "cell_type": "code",
   "execution_count": 227,
   "id": "27b28860",
   "metadata": {},
   "outputs": [],
   "source": [
    "from sklearn.model_selection import train_test_split\n",
    "\n",
    "x_train, x_test, y_train, y_test = train_test_split(X, Y, test_size=0.2, random_state=42)"
   ]
  },
  {
   "cell_type": "markdown",
   "id": "62459c0d",
   "metadata": {},
   "source": [
    "# Dealing with imbalanced data"
   ]
  },
  {
   "cell_type": "code",
   "execution_count": 228,
   "id": "05ce6b44",
   "metadata": {},
   "outputs": [],
   "source": [
    "# from imblearn.over_sampling import SMOTE\n",
    "# from smote import SMOTE\n",
    "\n",
    "# sm = SMOTE(random_state=25, sampling_strategy=1.0)\n",
    "# x_train, y_train = sm.fit_sample(x_train, y_train)\n",
    "from sklearn.utils import resample\n",
    "\n",
    "x_train, y_train = resample(x_train, y_train, random_state=42)"
   ]
  },
  {
   "cell_type": "markdown",
   "id": "7a621cc0",
   "metadata": {},
   "source": [
    "# Model Building"
   ]
  },
  {
   "cell_type": "markdown",
   "id": "8e199657",
   "metadata": {},
   "source": [
    "### Linear Regression"
   ]
  },
  {
   "cell_type": "code",
   "execution_count": 229,
   "id": "d08d4f4b",
   "metadata": {},
   "outputs": [],
   "source": [
    "from sklearn.linear_model import LinearRegression\n",
    "\n",
    "lin_model = LinearRegression()"
   ]
  },
  {
   "cell_type": "code",
   "execution_count": 230,
   "id": "cb4a7aea",
   "metadata": {},
   "outputs": [
    {
     "data": {
      "text/html": [
       "<style>#sk-container-id-29 {color: black;}#sk-container-id-29 pre{padding: 0;}#sk-container-id-29 div.sk-toggleable {background-color: white;}#sk-container-id-29 label.sk-toggleable__label {cursor: pointer;display: block;width: 100%;margin-bottom: 0;padding: 0.3em;box-sizing: border-box;text-align: center;}#sk-container-id-29 label.sk-toggleable__label-arrow:before {content: \"▸\";float: left;margin-right: 0.25em;color: #696969;}#sk-container-id-29 label.sk-toggleable__label-arrow:hover:before {color: black;}#sk-container-id-29 div.sk-estimator:hover label.sk-toggleable__label-arrow:before {color: black;}#sk-container-id-29 div.sk-toggleable__content {max-height: 0;max-width: 0;overflow: hidden;text-align: left;background-color: #f0f8ff;}#sk-container-id-29 div.sk-toggleable__content pre {margin: 0.2em;color: black;border-radius: 0.25em;background-color: #f0f8ff;}#sk-container-id-29 input.sk-toggleable__control:checked~div.sk-toggleable__content {max-height: 200px;max-width: 100%;overflow: auto;}#sk-container-id-29 input.sk-toggleable__control:checked~label.sk-toggleable__label-arrow:before {content: \"▾\";}#sk-container-id-29 div.sk-estimator input.sk-toggleable__control:checked~label.sk-toggleable__label {background-color: #d4ebff;}#sk-container-id-29 div.sk-label input.sk-toggleable__control:checked~label.sk-toggleable__label {background-color: #d4ebff;}#sk-container-id-29 input.sk-hidden--visually {border: 0;clip: rect(1px 1px 1px 1px);clip: rect(1px, 1px, 1px, 1px);height: 1px;margin: -1px;overflow: hidden;padding: 0;position: absolute;width: 1px;}#sk-container-id-29 div.sk-estimator {font-family: monospace;background-color: #f0f8ff;border: 1px dotted black;border-radius: 0.25em;box-sizing: border-box;margin-bottom: 0.5em;}#sk-container-id-29 div.sk-estimator:hover {background-color: #d4ebff;}#sk-container-id-29 div.sk-parallel-item::after {content: \"\";width: 100%;border-bottom: 1px solid gray;flex-grow: 1;}#sk-container-id-29 div.sk-label:hover label.sk-toggleable__label {background-color: #d4ebff;}#sk-container-id-29 div.sk-serial::before {content: \"\";position: absolute;border-left: 1px solid gray;box-sizing: border-box;top: 0;bottom: 0;left: 50%;z-index: 0;}#sk-container-id-29 div.sk-serial {display: flex;flex-direction: column;align-items: center;background-color: white;padding-right: 0.2em;padding-left: 0.2em;position: relative;}#sk-container-id-29 div.sk-item {position: relative;z-index: 1;}#sk-container-id-29 div.sk-parallel {display: flex;align-items: stretch;justify-content: center;background-color: white;position: relative;}#sk-container-id-29 div.sk-item::before, #sk-container-id-29 div.sk-parallel-item::before {content: \"\";position: absolute;border-left: 1px solid gray;box-sizing: border-box;top: 0;bottom: 0;left: 50%;z-index: -1;}#sk-container-id-29 div.sk-parallel-item {display: flex;flex-direction: column;z-index: 1;position: relative;background-color: white;}#sk-container-id-29 div.sk-parallel-item:first-child::after {align-self: flex-end;width: 50%;}#sk-container-id-29 div.sk-parallel-item:last-child::after {align-self: flex-start;width: 50%;}#sk-container-id-29 div.sk-parallel-item:only-child::after {width: 0;}#sk-container-id-29 div.sk-dashed-wrapped {border: 1px dashed gray;margin: 0 0.4em 0.5em 0.4em;box-sizing: border-box;padding-bottom: 0.4em;background-color: white;}#sk-container-id-29 div.sk-label label {font-family: monospace;font-weight: bold;display: inline-block;line-height: 1.2em;}#sk-container-id-29 div.sk-label-container {text-align: center;}#sk-container-id-29 div.sk-container {/* jupyter's `normalize.less` sets `[hidden] { display: none; }` but bootstrap.min.css set `[hidden] { display: none !important; }` so we also need the `!important` here to be able to override the default hidden behavior on the sphinx rendered scikit-learn.org. See: https://github.com/scikit-learn/scikit-learn/issues/21755 */display: inline-block !important;position: relative;}#sk-container-id-29 div.sk-text-repr-fallback {display: none;}</style><div id=\"sk-container-id-29\" class=\"sk-top-container\"><div class=\"sk-text-repr-fallback\"><pre>LinearRegression()</pre><b>In a Jupyter environment, please rerun this cell to show the HTML representation or trust the notebook. <br />On GitHub, the HTML representation is unable to render, please try loading this page with nbviewer.org.</b></div><div class=\"sk-container\" hidden><div class=\"sk-item\"><div class=\"sk-estimator sk-toggleable\"><input class=\"sk-toggleable__control sk-hidden--visually\" id=\"sk-estimator-id-37\" type=\"checkbox\" checked><label for=\"sk-estimator-id-37\" class=\"sk-toggleable__label sk-toggleable__label-arrow\">LinearRegression</label><div class=\"sk-toggleable__content\"><pre>LinearRegression()</pre></div></div></div></div></div>"
      ],
      "text/plain": [
       "LinearRegression()"
      ]
     },
     "execution_count": 230,
     "metadata": {},
     "output_type": "execute_result"
    }
   ],
   "source": [
    "lin_model.fit(x_train, y_train)"
   ]
  },
  {
   "cell_type": "code",
   "execution_count": 231,
   "id": "40668755",
   "metadata": {},
   "outputs": [],
   "source": [
    "# from sklearn.model_selection import GridSearchCV\n",
    "lin_prediction = lin_model.predict(x_test)\n",
    "lin_prediction = [1 if i >= 0.5 else 0 for i in lin_prediction]"
   ]
  },
  {
   "cell_type": "code",
   "execution_count": 232,
   "id": "2009151f",
   "metadata": {},
   "outputs": [
    {
     "name": "stdout",
     "output_type": "stream",
     "text": [
      "Accuracy of Linear Regression:  96.90966048598764\n",
      "AUC-ROC score of Linear Regression:  58.86768497412018\n"
     ]
    }
   ],
   "source": [
    "from sklearn.metrics import accuracy_score, roc_auc_score, RocCurveDisplay\n",
    "print(\"Accuracy of Linear Regression: \", accuracy_score(y_test, lin_prediction)*100)\n",
    "print(\"AUC-ROC score of Linear Regression: \", roc_auc_score(y_test, lin_prediction)*100)"
   ]
  },
  {
   "cell_type": "markdown",
   "id": "85f7f177",
   "metadata": {},
   "source": [
    "### Logistic Regression"
   ]
  },
  {
   "cell_type": "code",
   "execution_count": 233,
   "id": "8fb0e2ca",
   "metadata": {},
   "outputs": [
    {
     "name": "stderr",
     "output_type": "stream",
     "text": [
      "C:\\Users\\Acer\\anaconda3\\Lib\\site-packages\\sklearn\\linear_model\\_logistic.py:460: ConvergenceWarning: lbfgs failed to converge (status=1):\n",
      "STOP: TOTAL NO. of ITERATIONS REACHED LIMIT.\n",
      "\n",
      "Increase the number of iterations (max_iter) or scale the data as shown in:\n",
      "    https://scikit-learn.org/stable/modules/preprocessing.html\n",
      "Please also refer to the documentation for alternative solver options:\n",
      "    https://scikit-learn.org/stable/modules/linear_model.html#logistic-regression\n",
      "  n_iter_i = _check_optimize_result(\n"
     ]
    },
    {
     "data": {
      "text/html": [
       "<style>#sk-container-id-30 {color: black;}#sk-container-id-30 pre{padding: 0;}#sk-container-id-30 div.sk-toggleable {background-color: white;}#sk-container-id-30 label.sk-toggleable__label {cursor: pointer;display: block;width: 100%;margin-bottom: 0;padding: 0.3em;box-sizing: border-box;text-align: center;}#sk-container-id-30 label.sk-toggleable__label-arrow:before {content: \"▸\";float: left;margin-right: 0.25em;color: #696969;}#sk-container-id-30 label.sk-toggleable__label-arrow:hover:before {color: black;}#sk-container-id-30 div.sk-estimator:hover label.sk-toggleable__label-arrow:before {color: black;}#sk-container-id-30 div.sk-toggleable__content {max-height: 0;max-width: 0;overflow: hidden;text-align: left;background-color: #f0f8ff;}#sk-container-id-30 div.sk-toggleable__content pre {margin: 0.2em;color: black;border-radius: 0.25em;background-color: #f0f8ff;}#sk-container-id-30 input.sk-toggleable__control:checked~div.sk-toggleable__content {max-height: 200px;max-width: 100%;overflow: auto;}#sk-container-id-30 input.sk-toggleable__control:checked~label.sk-toggleable__label-arrow:before {content: \"▾\";}#sk-container-id-30 div.sk-estimator input.sk-toggleable__control:checked~label.sk-toggleable__label {background-color: #d4ebff;}#sk-container-id-30 div.sk-label input.sk-toggleable__control:checked~label.sk-toggleable__label {background-color: #d4ebff;}#sk-container-id-30 input.sk-hidden--visually {border: 0;clip: rect(1px 1px 1px 1px);clip: rect(1px, 1px, 1px, 1px);height: 1px;margin: -1px;overflow: hidden;padding: 0;position: absolute;width: 1px;}#sk-container-id-30 div.sk-estimator {font-family: monospace;background-color: #f0f8ff;border: 1px dotted black;border-radius: 0.25em;box-sizing: border-box;margin-bottom: 0.5em;}#sk-container-id-30 div.sk-estimator:hover {background-color: #d4ebff;}#sk-container-id-30 div.sk-parallel-item::after {content: \"\";width: 100%;border-bottom: 1px solid gray;flex-grow: 1;}#sk-container-id-30 div.sk-label:hover label.sk-toggleable__label {background-color: #d4ebff;}#sk-container-id-30 div.sk-serial::before {content: \"\";position: absolute;border-left: 1px solid gray;box-sizing: border-box;top: 0;bottom: 0;left: 50%;z-index: 0;}#sk-container-id-30 div.sk-serial {display: flex;flex-direction: column;align-items: center;background-color: white;padding-right: 0.2em;padding-left: 0.2em;position: relative;}#sk-container-id-30 div.sk-item {position: relative;z-index: 1;}#sk-container-id-30 div.sk-parallel {display: flex;align-items: stretch;justify-content: center;background-color: white;position: relative;}#sk-container-id-30 div.sk-item::before, #sk-container-id-30 div.sk-parallel-item::before {content: \"\";position: absolute;border-left: 1px solid gray;box-sizing: border-box;top: 0;bottom: 0;left: 50%;z-index: -1;}#sk-container-id-30 div.sk-parallel-item {display: flex;flex-direction: column;z-index: 1;position: relative;background-color: white;}#sk-container-id-30 div.sk-parallel-item:first-child::after {align-self: flex-end;width: 50%;}#sk-container-id-30 div.sk-parallel-item:last-child::after {align-self: flex-start;width: 50%;}#sk-container-id-30 div.sk-parallel-item:only-child::after {width: 0;}#sk-container-id-30 div.sk-dashed-wrapped {border: 1px dashed gray;margin: 0 0.4em 0.5em 0.4em;box-sizing: border-box;padding-bottom: 0.4em;background-color: white;}#sk-container-id-30 div.sk-label label {font-family: monospace;font-weight: bold;display: inline-block;line-height: 1.2em;}#sk-container-id-30 div.sk-label-container {text-align: center;}#sk-container-id-30 div.sk-container {/* jupyter's `normalize.less` sets `[hidden] { display: none; }` but bootstrap.min.css set `[hidden] { display: none !important; }` so we also need the `!important` here to be able to override the default hidden behavior on the sphinx rendered scikit-learn.org. See: https://github.com/scikit-learn/scikit-learn/issues/21755 */display: inline-block !important;position: relative;}#sk-container-id-30 div.sk-text-repr-fallback {display: none;}</style><div id=\"sk-container-id-30\" class=\"sk-top-container\"><div class=\"sk-text-repr-fallback\"><pre>LogisticRegression()</pre><b>In a Jupyter environment, please rerun this cell to show the HTML representation or trust the notebook. <br />On GitHub, the HTML representation is unable to render, please try loading this page with nbviewer.org.</b></div><div class=\"sk-container\" hidden><div class=\"sk-item\"><div class=\"sk-estimator sk-toggleable\"><input class=\"sk-toggleable__control sk-hidden--visually\" id=\"sk-estimator-id-38\" type=\"checkbox\" checked><label for=\"sk-estimator-id-38\" class=\"sk-toggleable__label sk-toggleable__label-arrow\">LogisticRegression</label><div class=\"sk-toggleable__content\"><pre>LogisticRegression()</pre></div></div></div></div></div>"
      ],
      "text/plain": [
       "LogisticRegression()"
      ]
     },
     "execution_count": 233,
     "metadata": {},
     "output_type": "execute_result"
    }
   ],
   "source": [
    "from sklearn.linear_model import LogisticRegression\n",
    "\n",
    "log_model = LogisticRegression()\n",
    "log_model.fit(x_train, y_train)"
   ]
  },
  {
   "cell_type": "code",
   "execution_count": 234,
   "id": "0326a52e",
   "metadata": {},
   "outputs": [
    {
     "name": "stdout",
     "output_type": "stream",
     "text": [
      "Accuracy of Logistic Regression:  96.56252645838626\n",
      "AUC-ROC score of Logistic Regression:  50.233762607074894\n"
     ]
    }
   ],
   "source": [
    "log_pred = log_model.predict(x_test)\n",
    "print(\"Accuracy of Logistic Regression: \", accuracy_score(y_test, log_pred)*100)\n",
    "print(\"AUC-ROC score of Logistic Regression: \", roc_auc_score(y_test, log_pred)*100)"
   ]
  },
  {
   "cell_type": "markdown",
   "id": "1c7a4452",
   "metadata": {},
   "source": [
    "### Naive Bayes Classifier"
   ]
  },
  {
   "cell_type": "code",
   "execution_count": 235,
   "id": "d018b49f",
   "metadata": {},
   "outputs": [
    {
     "data": {
      "text/html": [
       "<style>#sk-container-id-31 {color: black;}#sk-container-id-31 pre{padding: 0;}#sk-container-id-31 div.sk-toggleable {background-color: white;}#sk-container-id-31 label.sk-toggleable__label {cursor: pointer;display: block;width: 100%;margin-bottom: 0;padding: 0.3em;box-sizing: border-box;text-align: center;}#sk-container-id-31 label.sk-toggleable__label-arrow:before {content: \"▸\";float: left;margin-right: 0.25em;color: #696969;}#sk-container-id-31 label.sk-toggleable__label-arrow:hover:before {color: black;}#sk-container-id-31 div.sk-estimator:hover label.sk-toggleable__label-arrow:before {color: black;}#sk-container-id-31 div.sk-toggleable__content {max-height: 0;max-width: 0;overflow: hidden;text-align: left;background-color: #f0f8ff;}#sk-container-id-31 div.sk-toggleable__content pre {margin: 0.2em;color: black;border-radius: 0.25em;background-color: #f0f8ff;}#sk-container-id-31 input.sk-toggleable__control:checked~div.sk-toggleable__content {max-height: 200px;max-width: 100%;overflow: auto;}#sk-container-id-31 input.sk-toggleable__control:checked~label.sk-toggleable__label-arrow:before {content: \"▾\";}#sk-container-id-31 div.sk-estimator input.sk-toggleable__control:checked~label.sk-toggleable__label {background-color: #d4ebff;}#sk-container-id-31 div.sk-label input.sk-toggleable__control:checked~label.sk-toggleable__label {background-color: #d4ebff;}#sk-container-id-31 input.sk-hidden--visually {border: 0;clip: rect(1px 1px 1px 1px);clip: rect(1px, 1px, 1px, 1px);height: 1px;margin: -1px;overflow: hidden;padding: 0;position: absolute;width: 1px;}#sk-container-id-31 div.sk-estimator {font-family: monospace;background-color: #f0f8ff;border: 1px dotted black;border-radius: 0.25em;box-sizing: border-box;margin-bottom: 0.5em;}#sk-container-id-31 div.sk-estimator:hover {background-color: #d4ebff;}#sk-container-id-31 div.sk-parallel-item::after {content: \"\";width: 100%;border-bottom: 1px solid gray;flex-grow: 1;}#sk-container-id-31 div.sk-label:hover label.sk-toggleable__label {background-color: #d4ebff;}#sk-container-id-31 div.sk-serial::before {content: \"\";position: absolute;border-left: 1px solid gray;box-sizing: border-box;top: 0;bottom: 0;left: 50%;z-index: 0;}#sk-container-id-31 div.sk-serial {display: flex;flex-direction: column;align-items: center;background-color: white;padding-right: 0.2em;padding-left: 0.2em;position: relative;}#sk-container-id-31 div.sk-item {position: relative;z-index: 1;}#sk-container-id-31 div.sk-parallel {display: flex;align-items: stretch;justify-content: center;background-color: white;position: relative;}#sk-container-id-31 div.sk-item::before, #sk-container-id-31 div.sk-parallel-item::before {content: \"\";position: absolute;border-left: 1px solid gray;box-sizing: border-box;top: 0;bottom: 0;left: 50%;z-index: -1;}#sk-container-id-31 div.sk-parallel-item {display: flex;flex-direction: column;z-index: 1;position: relative;background-color: white;}#sk-container-id-31 div.sk-parallel-item:first-child::after {align-self: flex-end;width: 50%;}#sk-container-id-31 div.sk-parallel-item:last-child::after {align-self: flex-start;width: 50%;}#sk-container-id-31 div.sk-parallel-item:only-child::after {width: 0;}#sk-container-id-31 div.sk-dashed-wrapped {border: 1px dashed gray;margin: 0 0.4em 0.5em 0.4em;box-sizing: border-box;padding-bottom: 0.4em;background-color: white;}#sk-container-id-31 div.sk-label label {font-family: monospace;font-weight: bold;display: inline-block;line-height: 1.2em;}#sk-container-id-31 div.sk-label-container {text-align: center;}#sk-container-id-31 div.sk-container {/* jupyter's `normalize.less` sets `[hidden] { display: none; }` but bootstrap.min.css set `[hidden] { display: none !important; }` so we also need the `!important` here to be able to override the default hidden behavior on the sphinx rendered scikit-learn.org. See: https://github.com/scikit-learn/scikit-learn/issues/21755 */display: inline-block !important;position: relative;}#sk-container-id-31 div.sk-text-repr-fallback {display: none;}</style><div id=\"sk-container-id-31\" class=\"sk-top-container\"><div class=\"sk-text-repr-fallback\"><pre>GaussianNB()</pre><b>In a Jupyter environment, please rerun this cell to show the HTML representation or trust the notebook. <br />On GitHub, the HTML representation is unable to render, please try loading this page with nbviewer.org.</b></div><div class=\"sk-container\" hidden><div class=\"sk-item\"><div class=\"sk-estimator sk-toggleable\"><input class=\"sk-toggleable__control sk-hidden--visually\" id=\"sk-estimator-id-39\" type=\"checkbox\" checked><label for=\"sk-estimator-id-39\" class=\"sk-toggleable__label sk-toggleable__label-arrow\">GaussianNB</label><div class=\"sk-toggleable__content\"><pre>GaussianNB()</pre></div></div></div></div></div>"
      ],
      "text/plain": [
       "GaussianNB()"
      ]
     },
     "execution_count": 235,
     "metadata": {},
     "output_type": "execute_result"
    }
   ],
   "source": [
    "from sklearn.naive_bayes import GaussianNB\n",
    "\n",
    "nb_model = GaussianNB()\n",
    "nb_model.fit(x_train, y_train)"
   ]
  },
  {
   "cell_type": "code",
   "execution_count": 236,
   "id": "5eb68f73",
   "metadata": {},
   "outputs": [
    {
     "name": "stdout",
     "output_type": "stream",
     "text": [
      "Accuracy of Naive Bayes:  6.129878926424519\n",
      "AUC-ROC score of Naive Bayes:  49.25507043076743\n"
     ]
    }
   ],
   "source": [
    "nb_pred = nb_model.predict(x_test)\n",
    "print(\"Accuracy of Naive Bayes: \", accuracy_score(y_test, nb_pred)*100)\n",
    "print(\"AUC-ROC score of Naive Bayes: \", roc_auc_score(y_test, nb_pred)*100)"
   ]
  },
  {
   "cell_type": "markdown",
   "id": "eb2bbdfe",
   "metadata": {},
   "source": [
    "### Support Vector Machine"
   ]
  },
  {
   "cell_type": "code",
   "execution_count": 237,
   "id": "0d0ef93c",
   "metadata": {},
   "outputs": [],
   "source": [
    "# from sklearn.svm import SVC\n",
    "\n",
    "# svm_model = SVC()\n",
    "# svm_model.fit(x_train, y_train)"
   ]
  },
  {
   "cell_type": "code",
   "execution_count": 238,
   "id": "a4fb02e7",
   "metadata": {},
   "outputs": [],
   "source": [
    "# svm_pred = svm_model.predict(x_test)\n",
    "# print(\"Accuracy of Support Vector Machine: \", accuracy_score(y_test, svm_pred)*100)\n",
    "# print(\"AUC-ROC score of Support Vector Machine: \", roc_auc_score(y_test, svm_pred)*100)"
   ]
  },
  {
   "cell_type": "markdown",
   "id": "33d7e147",
   "metadata": {},
   "source": [
    "### Random Forest Classifier"
   ]
  },
  {
   "cell_type": "code",
   "execution_count": 239,
   "id": "584e1356",
   "metadata": {},
   "outputs": [
    {
     "data": {
      "text/html": [
       "<style>#sk-container-id-32 {color: black;}#sk-container-id-32 pre{padding: 0;}#sk-container-id-32 div.sk-toggleable {background-color: white;}#sk-container-id-32 label.sk-toggleable__label {cursor: pointer;display: block;width: 100%;margin-bottom: 0;padding: 0.3em;box-sizing: border-box;text-align: center;}#sk-container-id-32 label.sk-toggleable__label-arrow:before {content: \"▸\";float: left;margin-right: 0.25em;color: #696969;}#sk-container-id-32 label.sk-toggleable__label-arrow:hover:before {color: black;}#sk-container-id-32 div.sk-estimator:hover label.sk-toggleable__label-arrow:before {color: black;}#sk-container-id-32 div.sk-toggleable__content {max-height: 0;max-width: 0;overflow: hidden;text-align: left;background-color: #f0f8ff;}#sk-container-id-32 div.sk-toggleable__content pre {margin: 0.2em;color: black;border-radius: 0.25em;background-color: #f0f8ff;}#sk-container-id-32 input.sk-toggleable__control:checked~div.sk-toggleable__content {max-height: 200px;max-width: 100%;overflow: auto;}#sk-container-id-32 input.sk-toggleable__control:checked~label.sk-toggleable__label-arrow:before {content: \"▾\";}#sk-container-id-32 div.sk-estimator input.sk-toggleable__control:checked~label.sk-toggleable__label {background-color: #d4ebff;}#sk-container-id-32 div.sk-label input.sk-toggleable__control:checked~label.sk-toggleable__label {background-color: #d4ebff;}#sk-container-id-32 input.sk-hidden--visually {border: 0;clip: rect(1px 1px 1px 1px);clip: rect(1px, 1px, 1px, 1px);height: 1px;margin: -1px;overflow: hidden;padding: 0;position: absolute;width: 1px;}#sk-container-id-32 div.sk-estimator {font-family: monospace;background-color: #f0f8ff;border: 1px dotted black;border-radius: 0.25em;box-sizing: border-box;margin-bottom: 0.5em;}#sk-container-id-32 div.sk-estimator:hover {background-color: #d4ebff;}#sk-container-id-32 div.sk-parallel-item::after {content: \"\";width: 100%;border-bottom: 1px solid gray;flex-grow: 1;}#sk-container-id-32 div.sk-label:hover label.sk-toggleable__label {background-color: #d4ebff;}#sk-container-id-32 div.sk-serial::before {content: \"\";position: absolute;border-left: 1px solid gray;box-sizing: border-box;top: 0;bottom: 0;left: 50%;z-index: 0;}#sk-container-id-32 div.sk-serial {display: flex;flex-direction: column;align-items: center;background-color: white;padding-right: 0.2em;padding-left: 0.2em;position: relative;}#sk-container-id-32 div.sk-item {position: relative;z-index: 1;}#sk-container-id-32 div.sk-parallel {display: flex;align-items: stretch;justify-content: center;background-color: white;position: relative;}#sk-container-id-32 div.sk-item::before, #sk-container-id-32 div.sk-parallel-item::before {content: \"\";position: absolute;border-left: 1px solid gray;box-sizing: border-box;top: 0;bottom: 0;left: 50%;z-index: -1;}#sk-container-id-32 div.sk-parallel-item {display: flex;flex-direction: column;z-index: 1;position: relative;background-color: white;}#sk-container-id-32 div.sk-parallel-item:first-child::after {align-self: flex-end;width: 50%;}#sk-container-id-32 div.sk-parallel-item:last-child::after {align-self: flex-start;width: 50%;}#sk-container-id-32 div.sk-parallel-item:only-child::after {width: 0;}#sk-container-id-32 div.sk-dashed-wrapped {border: 1px dashed gray;margin: 0 0.4em 0.5em 0.4em;box-sizing: border-box;padding-bottom: 0.4em;background-color: white;}#sk-container-id-32 div.sk-label label {font-family: monospace;font-weight: bold;display: inline-block;line-height: 1.2em;}#sk-container-id-32 div.sk-label-container {text-align: center;}#sk-container-id-32 div.sk-container {/* jupyter's `normalize.less` sets `[hidden] { display: none; }` but bootstrap.min.css set `[hidden] { display: none !important; }` so we also need the `!important` here to be able to override the default hidden behavior on the sphinx rendered scikit-learn.org. See: https://github.com/scikit-learn/scikit-learn/issues/21755 */display: inline-block !important;position: relative;}#sk-container-id-32 div.sk-text-repr-fallback {display: none;}</style><div id=\"sk-container-id-32\" class=\"sk-top-container\"><div class=\"sk-text-repr-fallback\"><pre>RandomForestClassifier()</pre><b>In a Jupyter environment, please rerun this cell to show the HTML representation or trust the notebook. <br />On GitHub, the HTML representation is unable to render, please try loading this page with nbviewer.org.</b></div><div class=\"sk-container\" hidden><div class=\"sk-item\"><div class=\"sk-estimator sk-toggleable\"><input class=\"sk-toggleable__control sk-hidden--visually\" id=\"sk-estimator-id-40\" type=\"checkbox\" checked><label for=\"sk-estimator-id-40\" class=\"sk-toggleable__label sk-toggleable__label-arrow\">RandomForestClassifier</label><div class=\"sk-toggleable__content\"><pre>RandomForestClassifier()</pre></div></div></div></div></div>"
      ],
      "text/plain": [
       "RandomForestClassifier()"
      ]
     },
     "execution_count": 239,
     "metadata": {},
     "output_type": "execute_result"
    }
   ],
   "source": [
    "from sklearn.ensemble import RandomForestClassifier\n",
    "\n",
    "rf_model = RandomForestClassifier()\n",
    "rf_model.fit(x_train, y_train)"
   ]
  },
  {
   "cell_type": "code",
   "execution_count": 240,
   "id": "3bde30d9",
   "metadata": {},
   "outputs": [
    {
     "name": "stdout",
     "output_type": "stream",
     "text": [
      "Accuracy of Random Forest:  97.44306155278977\n",
      "AUC-ROC score of Random Forest:  87.18154620808195\n"
     ]
    }
   ],
   "source": [
    "rf_pred_proba = rf_model.predict_proba(x_test)[:,1]\n",
    "rf_pred = rf_model.predict(x_test)\n",
    "print(\"Accuracy of Random Forest: \", accuracy_score(y_test, rf_pred)*100)\n",
    "print(\"AUC-ROC score of Random Forest: \", roc_auc_score(y_test, rf_pred_proba)*100)"
   ]
  },
  {
   "cell_type": "code",
   "execution_count": 241,
   "id": "cfc1a686",
   "metadata": {},
   "outputs": [],
   "source": [
    "from sklearn.model_selection import GridSearchCV\n",
    "\n",
    "# x_train, x_val, y_train, y_val = train_test_split(x_train, y_train, test_size=0.2, random_state=42)"
   ]
  },
  {
   "cell_type": "markdown",
   "id": "46ea55f9",
   "metadata": {},
   "source": [
    "Defining the parameters to be used for the tuning."
   ]
  },
  {
   "cell_type": "code",
   "execution_count": 242,
   "id": "21439de0-02d3-40e9-a66f-f84525783b30",
   "metadata": {},
   "outputs": [],
   "source": [
    "param_grid = {\n",
    "    'n_estimators': [10,50, 100], # number of trees in the forest, larger number of trees reduce variance but increase the computation time and risk of overfitting\n",
    "    'max_depth': [None, 5, 10], # A deeper depth can capture more complex patterns in the data, but also increase the risk of overfitting and computation time\n",
    "    'min_samples_split': [2, 5, 10], # this is the minimum number of samples to split a node. Smaller value create more leaves and get more details, but also increase risk of overfitting and computation time\n",
    "    'min_samples_leaf': [1,5,10], # minimum number of samples required to be at a leaf node. Smaller values create more leaves and get more details too.\n",
    "    # 'max_features': ['auto','sqrt','log2'] # The number of features to consider when looking for the best split. A smaller value can reduce the correlation among the trees but also increase the bias of the prediction\n",
    "}"
   ]
  },
  {
   "cell_type": "code",
   "execution_count": 243,
   "id": "6fcdbd13-3a25-43be-b420-676bda8894b5",
   "metadata": {},
   "outputs": [
    {
     "name": "stdout",
     "output_type": "stream",
     "text": [
      "{'max_depth': None, 'min_samples_leaf': 1, 'min_samples_split': 2, 'n_estimators': 100}\n",
      "0.9502850080089011\n"
     ]
    }
   ],
   "source": [
    "# you can specify n_job = -1, means I'm using all my processors for parallelism of processes that run several processes in parallel\n",
    "grid_search_rf = GridSearchCV(rf_model, param_grid, scoring=\"roc_auc\", cv=5) # create a grid search object\n",
    "grid_search_rf.fit(x_train, y_train) # Fit the grid search on the training set\n",
    "print(grid_search_rf.best_params_) # print the best parameters\n",
    "print(grid_search_rf.best_score_) # print the best score"
   ]
  },
  {
   "cell_type": "markdown",
   "id": "aafc244e",
   "metadata": {},
   "source": [
    "#### Plotting the ROC-AUC curve on the test set"
   ]
  },
  {
   "cell_type": "code",
   "execution_count": 244,
   "id": "1e510e4b-2316-48dc-b1ff-bba53f68f819",
   "metadata": {},
   "outputs": [
    {
     "name": "stdout",
     "output_type": "stream",
     "text": [
      "0.8797752103614516\n"
     ]
    }
   ],
   "source": [
    "y_pred = grid_search_rf.predict_proba(x_test)[:,1] # Predict the probabilities on the test set\n",
    "roc_value = roc_auc_score(y_test, y_pred) # compute the AUC score on the test set\n",
    "print(roc_value) # print the AUC score"
   ]
  },
  {
   "cell_type": "code",
   "execution_count": 245,
   "id": "613b494b-1be2-4bbc-b6e3-f1495b0f8f67",
   "metadata": {},
   "outputs": [
    {
     "data": {
      "image/png": "[encoded data removed]",
      "text/plain": [
       "<Figure size 640x480 with 1 Axes>"
      ]
     },
     "metadata": {},
     "output_type": "display_data"
    }
   ],
   "source": [
    "ax = plt.gca()\n",
    "auc_disp = RocCurveDisplay.from_estimator(grid_search_rf.best_estimator_,x_test,y_test,ax=ax)\n",
    "plt.show()"
   ]
  },
  {
   "cell_type": "code",
   "execution_count": null,
   "id": "b08ac587-ed93-42c8-b622-d8650ceb051d",
   "metadata": {},
   "outputs": [],
   "source": [
    "import shap\n",
    "\n",
    "explainer = shap.TreeExplainer(rf_model)\n",
    "shap_values = explainer.shap_values(x_test)"
   ]
  },
  {
   "cell_type": "code",
   "execution_count": null,
   "id": "9b1be97e-7f0a-4d3d-b2e7-ecff6e9d69cf",
   "metadata": {},
   "outputs": [],
   "source": [
    "pd.DataFrame(shap_values, columns=x_test.columns).head()"
   ]
  },
  {
   "cell_type": "code",
   "execution_count": null,
   "id": "c9232f5a-0e2e-457a-b9ee-50da53406047",
   "metadata": {},
   "outputs": [],
   "source": [
    "x_test.head()"
   ]
  },
  {
   "cell_type": "code",
   "execution_count": null,
   "id": "b9fd8f7b-d207-491a-bcf8-d7d466f4f3d7",
   "metadata": {},
   "outputs": [],
   "source": [
    "shap.summary_plot(shap_values, x_test, plot_type='bar')"
   ]
  },
  {
   "cell_type": "code",
   "execution_count": null,
   "id": "8b7af759-8df8-4895-9eab-5a0633d1d29d",
   "metadata": {},
   "outputs": [],
   "source": [
    "y_test.iloc[10].values, rf_pred[10]"
   ]
  },
  {
   "cell_type": "code",
   "execution_count": null,
   "id": "55263324-8a7e-440e-b30f-1c0ad859bbd2",
   "metadata": {},
   "outputs": [],
   "source": [
    "explainer.expected_value"
   ]
  },
  {
   "cell_type": "code",
   "execution_count": null,
   "id": "6c7f50cb-8745-488a-9d37-a6328af6562d",
   "metadata": {},
   "outputs": [],
   "source": [
    "shap.initjs()\n",
    "shap.force_plot(explainer.expected_value, shap_values[10, :], x_test.iloc[10, :])"
   ]
  },
  {
   "cell_type": "code",
   "execution_count": null,
   "id": "8396811a-14be-4e03-a9e5-e4ecb193599a",
   "metadata": {},
   "outputs": [],
   "source": [
    "y_test.iloc[1].values, rf_pred[1]"
   ]
  },
  {
   "cell_type": "code",
   "execution_count": null,
   "id": "b4505f8f-5b14-43ec-b768-803611a86ad2",
   "metadata": {},
   "outputs": [],
   "source": [
    "shap.initjs()\n",
    "shap.force_plot(explainer.expected_value, shap_values[1, :], x_test.iloc[1, :])"
   ]
  },
  {
   "cell_type": "code",
   "execution_count": null,
   "id": "1ee73540-3b24-4eaf-85de-916ea394baa6",
   "metadata": {},
   "outputs": [],
   "source": [
    "shap.dependence_plot(ind='LSTAT', interaction_index='LSTAT',\n",
    "                     shap_values=shap_values, \n",
    "                     features=x_test,  \n",
    "                     display_features=x_test)"
   ]
  },
  {
   "cell_type": "code",
   "execution_count": null,
   "id": "f9009117-428d-4dc3-bcaf-b84b1404a4f9",
   "metadata": {},
   "outputs": [],
   "source": [
    "shap.dependence_plot(ind='RM', interaction_index='RM',\n",
    "                     shap_values=shap_values, \n",
    "                     features=x_test,  \n",
    "                     display_features=x_test)"
   ]
  },
  {
   "cell_type": "code",
   "execution_count": null,
   "id": "e08139e0-5e00-48e8-81d1-ed711fbb893c",
   "metadata": {},
   "outputs": [],
   "source": [
    "shap.dependence_plot(ind='PTRATIO', interaction_index='PTRATIO',\n",
    "                     shap_values=shap_values, \n",
    "                     features=x_test,  \n",
    "                     display_features=x_test)"
   ]
  },
  {
   "cell_type": "markdown",
   "id": "0af7c33d",
   "metadata": {},
   "source": [
    "## Decision Tree Tuning"
   ]
  },
  {
   "cell_type": "code",
   "execution_count": 246,
   "id": "71042f6f",
   "metadata": {},
   "outputs": [],
   "source": [
    "from sklearn.tree import  DecisionTreeClassifier\n",
    "from sklearn.metrics import roc_curve\n",
    "\n",
    "param_grid = {\n",
    "    'criterion': ['gini','entropy'],\n",
    "    'max_depth': [3, 5, 7],\n",
    "    'min_samples_split': [2, 5, 10],\n",
    "    'min_samples_leaf': [1, 3, 5],\n",
    "    # 'max_features':['auto','sqrt','log2'],\n",
    "}\n",
    "\n",
    "decision_tree = DecisionTreeClassifier()"
   ]
  },
  {
   "cell_type": "code",
   "execution_count": 248,
   "id": "758451a3",
   "metadata": {},
   "outputs": [
    {
     "name": "stderr",
     "output_type": "stream",
     "text": [
      "C:\\Users\\Acer\\anaconda3\\Lib\\site-packages\\sklearn\\model_selection\\_validation.py:425: FitFailedWarning: \n",
      "270 fits failed out of a total of 810.\n",
      "The score on these train-test partitions for these parameters will be set to nan.\n",
      "If these failures are not expected, you can try to debug them by setting error_score='raise'.\n",
      "\n",
      "Below are more details about the failures:\n",
      "--------------------------------------------------------------------------------\n",
      "270 fits failed with the following error:\n",
      "Traceback (most recent call last):\n",
      "  File \"C:\\Users\\Acer\\anaconda3\\Lib\\site-packages\\sklearn\\model_selection\\_validation.py\", line 732, in _fit_and_score\n",
      "    estimator.fit(X_train, y_train, **fit_params)\n",
      "  File \"C:\\Users\\Acer\\anaconda3\\Lib\\site-packages\\sklearn\\base.py\", line 1144, in wrapper\n",
      "    estimator._validate_params()\n",
      "  File \"C:\\Users\\Acer\\anaconda3\\Lib\\site-packages\\sklearn\\base.py\", line 637, in _validate_params\n",
      "    validate_parameter_constraints(\n",
      "  File \"C:\\Users\\Acer\\anaconda3\\Lib\\site-packages\\sklearn\\utils\\_param_validation.py\", line 95, in validate_parameter_constraints\n",
      "    raise InvalidParameterError(\n",
      "sklearn.utils._param_validation.InvalidParameterError: The 'max_features' parameter of DecisionTreeClassifier must be an int in the range [1, inf), a float in the range (0.0, 1.0], a str among {'sqrt', 'log2'} or None. Got 'auto' instead.\n",
      "\n",
      "  warnings.warn(some_fits_failed_message, FitFailedWarning)\n",
      "C:\\Users\\Acer\\anaconda3\\Lib\\site-packages\\sklearn\\model_selection\\_search.py:976: UserWarning: One or more of the test scores are non-finite: [       nan        nan        nan        nan        nan        nan\n",
      "        nan        nan        nan 0.68615869 0.67243272 0.64473835\n",
      " 0.67763075 0.68289564 0.64041307 0.65709488 0.64842219 0.65954297\n",
      " 0.65910458 0.6593952  0.66950265 0.64069207 0.68324123 0.68352805\n",
      " 0.63461541 0.68175784 0.67420224        nan        nan        nan\n",
      "        nan        nan        nan        nan        nan        nan\n",
      " 0.70099263 0.71842993 0.7144866  0.72650783 0.74481182 0.70298355\n",
      " 0.7152747  0.70928384 0.69936615 0.72712255 0.70289079 0.73395162\n",
      " 0.71734708 0.69504363 0.70152839 0.70744083 0.71673299 0.69877097\n",
      "        nan        nan        nan        nan        nan        nan\n",
      "        nan        nan        nan 0.77284858 0.75351233 0.76479098\n",
      " 0.74432333 0.7648057  0.73141939 0.76657677 0.77785748 0.76934695\n",
      " 0.7363467  0.74969471 0.76019425 0.75220258 0.7336073  0.74915771\n",
      " 0.72884682 0.73861846 0.73344839        nan        nan        nan\n",
      "        nan        nan        nan        nan        nan        nan\n",
      " 0.7095794  0.71561067 0.71862255 0.73037442 0.70854148 0.73553592\n",
      " 0.730513   0.71366524 0.72017035 0.67459647 0.69413326 0.66899686\n",
      " 0.67878443 0.69931959 0.70717695 0.6764648  0.70122037 0.67959182\n",
      "        nan        nan        nan        nan        nan        nan\n",
      "        nan        nan        nan 0.78263116 0.77411841 0.76403814\n",
      " 0.78472421 0.78916779 0.7666865  0.76612179 0.77170069 0.77791516\n",
      " 0.73001543 0.71368469 0.72131402 0.74755423 0.74549314 0.7589721\n",
      " 0.72805694 0.72045545 0.73362657        nan        nan        nan\n",
      "        nan        nan        nan        nan        nan        nan\n",
      " 0.80373301 0.79909881 0.79992761 0.80618891 0.8025618  0.78947931\n",
      " 0.81008092 0.80648243 0.80588254 0.75785713 0.75487386 0.76637702\n",
      " 0.73359878 0.75109184 0.74590446 0.73802874 0.76355851 0.76066243]\n",
      "  warnings.warn(\n"
     ]
    },
    {
     "name": "stdout",
     "output_type": "stream",
     "text": [
      "{'criterion': 'entropy', 'max_depth': 7, 'max_features': 'sqrt', 'min_samples_leaf': 5, 'min_samples_split': 2}\n",
      "0.8100809211930076\n"
     ]
    }
   ],
   "source": [
    "grid_search = GridSearchCV(decision_tree, param_grid,scoring=\"roc_auc\", cv=5)\n",
    "grid_search.fit(x_train, y_train)\n",
    "print(grid_search.best_params_)\n",
    "print(grid_search.best_score_)"
   ]
  },
  {
   "cell_type": "markdown",
   "id": "d1a09f67-3c7d-4b88-9c71-5211ac5f5b80",
   "metadata": {},
   "source": [
    "#### Plotting the ROC-AUC curve on the test set"
   ]
  },
  {
   "cell_type": "code",
   "execution_count": 249,
   "id": "a46eeb82",
   "metadata": {},
   "outputs": [
    {
     "name": "stdout",
     "output_type": "stream",
     "text": [
      "0.7778171765780626\n"
     ]
    }
   ],
   "source": [
    "y_pred_dt = grid_search.predict_proba(x_test)[:,1]\n",
    "\n",
    "roc_dt_value = roc_auc_score(y_test, y_pred_dt)\n",
    "print(roc_dt_value)"
   ]
  },
  {
   "cell_type": "code",
   "execution_count": 250,
   "id": "b7394f5c",
   "metadata": {},
   "outputs": [],
   "source": [
    "fpr, tpr, _ = roc_curve(y_test, y_pred_dt)"
   ]
  },
  {
   "cell_type": "code",
   "execution_count": 251,
   "id": "1506d61a",
   "metadata": {},
   "outputs": [
    {
     "data": {
      "image/png": "[encoded data removed]",
      "text/plain": [
       "<Figure size 640x480 with 1 Axes>"
      ]
     },
     "metadata": {},
     "output_type": "display_data"
    }
   ],
   "source": [
    "# plotting the ROC-AUC value \n",
    "# plt.figure(figsize=(10, 6))\n",
    "plt.plot(fpr, tpr, label=\"ROC curve (area = %0.2f)\" % roc_dt_value)\n",
    "plt.plot([0,1],[0,1],'k--')\n",
    "plt.xlabel('False Positive Rate')\n",
    "plt.ylabel('True Positive Rate')\n",
    "plt.title('AUC curve')\n",
    "plt.legend(loc='lower right')\n",
    "plt.show()"
   ]
  }
 ],
 "metadata": {
  "kernelspec": {
   "display_name": "Python 3 (ipykernel)",
   "language": "python",
   "name": "python3"
  },
  "language_info": {
   "codemirror_mode": {
    "name": "ipython",
    "version": 3
   },
   "file_extension": ".py",
   "mimetype": "text/x-python",
   "name": "python",
   "nbconvert_exporter": "python",
   "pygments_lexer": "ipython3",
   "version": "3.11.5"
  }
 },
 "nbformat": 4,
 "nbformat_minor": 5
}
