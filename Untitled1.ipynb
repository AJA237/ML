{
 "cells": [
  {
   "cell_type": "code",
   "execution_count": 1,
   "id": "613d8736",
   "metadata": {},
   "outputs": [
    {
     "name": "stderr",
     "output_type": "stream",
     "text": [
      "2023-09-30 14:32:28.721843: I tensorflow/core/platform/cpu_feature_guard.cc:182] This TensorFlow binary is optimized to use available CPU instructions in performance-critical operations.\n",
      "To enable the following instructions: AVX2 FMA, in other operations, rebuild TensorFlow with the appropriate compiler flags.\n",
      "2023-09-30 14:32:30.365107: W tensorflow/compiler/tf2tensorrt/utils/py_utils.cc:38] TF-TRT Warning: Could not find TensorRT\n"
     ]
    }
   ],
   "source": [
    "import tensorflow as tf\n",
    "import numpy as np\n",
    "from tensorflow import keras"
   ]
  },
  {
   "cell_type": "code",
   "execution_count": 2,
   "id": "8018a287",
   "metadata": {},
   "outputs": [
    {
     "name": "stderr",
     "output_type": "stream",
     "text": [
      "2023-09-30 14:32:32.659974: I tensorflow/compiler/xla/stream_executor/cuda/cuda_gpu_executor.cc:995] successful NUMA node read from SysFS had negative value (-1), but there must be at least one NUMA node, so returning NUMA node zero. See more at https://github.com/torvalds/linux/blob/v6.0/Documentation/ABI/testing/sysfs-bus-pci#L344-L355\n",
      "2023-09-30 14:32:32.917288: I tensorflow/compiler/xla/stream_executor/cuda/cuda_gpu_executor.cc:995] successful NUMA node read from SysFS had negative value (-1), but there must be at least one NUMA node, so returning NUMA node zero. See more at https://github.com/torvalds/linux/blob/v6.0/Documentation/ABI/testing/sysfs-bus-pci#L344-L355\n",
      "2023-09-30 14:32:32.917737: I tensorflow/compiler/xla/stream_executor/cuda/cuda_gpu_executor.cc:995] successful NUMA node read from SysFS had negative value (-1), but there must be at least one NUMA node, so returning NUMA node zero. See more at https://github.com/torvalds/linux/blob/v6.0/Documentation/ABI/testing/sysfs-bus-pci#L344-L355\n",
      "2023-09-30 14:32:32.918033: I tensorflow/core/common_runtime/gpu/gpu_device.cc:2002] Ignoring visible gpu device (device: 0, name: NVIDIA GeForce GT 750M, pci bus id: 0000:01:00.0, compute capability: 3.0) with Cuda compute capability 3.0. The minimum required Cuda capability is 3.5.\n"
     ]
    }
   ],
   "source": [
    "model = keras.models.load_model(\"/home/aja/Documents/ML/models/saved_models/cnn.h5\")"
   ]
  },
  {
   "cell_type": "code",
   "execution_count": 3,
   "id": "d970529e",
   "metadata": {},
   "outputs": [],
   "source": [
    "image = \"/home/aja/Documents/ML/dataset/dog_and_cat/dataset/single_prediction/cat_or_dog_2.jpg\""
   ]
  },
  {
   "cell_type": "code",
   "execution_count": 4,
   "id": "088f40f6",
   "metadata": {},
   "outputs": [],
   "source": [
    "def preprocess_image(img_path):\n",
    "    # load and preprocess the image\n",
    "    img = tf.keras.utils.load_img(img_path, target_size=(224, 224))\n",
    "    img_array = tf.keras.utils.img_to_array(img)\n",
    "    img = np.array([img_array])\n",
    "    return img"
   ]
  },
  {
   "cell_type": "code",
   "execution_count": 5,
   "id": "28f15511",
   "metadata": {},
   "outputs": [
    {
     "name": "stdout",
     "output_type": "stream",
     "text": [
      "1/1 [==============================] - 0s 182ms/step\n"
     ]
    }
   ],
   "source": [
    "img = preprocess_image(image)\n",
    "\n",
    "prediction = model.predict(img)"
   ]
  },
  {
   "cell_type": "code",
   "execution_count": 6,
   "id": "bd636224",
   "metadata": {},
   "outputs": [
    {
     "data": {
      "text/plain": [
       "array([[0.]], dtype=float32)"
      ]
     },
     "execution_count": 6,
     "metadata": {},
     "output_type": "execute_result"
    }
   ],
   "source": [
    "prediction"
   ]
  },
  {
   "cell_type": "code",
   "execution_count": 7,
   "id": "0e0012c7",
   "metadata": {},
   "outputs": [
    {
     "name": "stdout",
     "output_type": "stream",
     "text": [
      "This is a Cat\n"
     ]
    }
   ],
   "source": [
    "if prediction == 0:\n",
    "    print(\"This is a Cat\")\n",
    "else:\n",
    "    print(\"This is a Dog\")"
   ]
  },
  {
   "cell_type": "code",
   "execution_count": 8,
   "id": "c942ef93",
   "metadata": {},
   "outputs": [],
   "source": [
    "model_1 = tf.keras.saving.load_model(\"/home/aja/Documents/ML/models/saved_models/cnn_updated.keras\")"
   ]
  },
  {
   "cell_type": "code",
   "execution_count": 9,
   "id": "2a9869c8",
   "metadata": {},
   "outputs": [],
   "source": [
    "def preprocess_image(img_path):\n",
    "    # load and preprocess the image\n",
    "    img = tf.keras.utils.load_img(img_path, target_size=(256, 256))\n",
    "    img_array = tf.keras.utils.img_to_array(img)\n",
    "    img = np.array([img_array])\n",
    "    return img"
   ]
  },
  {
   "cell_type": "code",
   "execution_count": 10,
   "id": "712b1cec",
   "metadata": {},
   "outputs": [
    {
     "name": "stdout",
     "output_type": "stream",
     "text": [
      "1/1 [==============================] - 0s 148ms/step\n"
     ]
    }
   ],
   "source": [
    "img_1 = preprocess_image(image)\n",
    "predict = model_1.predict(img_1)"
   ]
  },
  {
   "cell_type": "code",
   "execution_count": 11,
   "id": "3c227854",
   "metadata": {},
   "outputs": [
    {
     "name": "stdout",
     "output_type": "stream",
     "text": [
      "This is a Dog\n"
     ]
    }
   ],
   "source": [
    "if predict == 0:\n",
    "    print(\"This is a Cat\")\n",
    "else:\n",
    "    print(\"This is a Dog\")"
   ]
  },
  {
   "cell_type": "code",
   "execution_count": null,
   "id": "aebe7a03",
   "metadata": {},
   "outputs": [],
   "source": []
  }
 ],
 "metadata": {
  "kernelspec": {
   "display_name": "Python 3 (ipykernel)",
   "language": "python",
   "name": "python3"
  },
  "language_info": {
   "codemirror_mode": {
    "name": "ipython",
    "version": 3
   },
   "file_extension": ".py",
   "mimetype": "text/x-python",
   "name": "python",
   "nbconvert_exporter": "python",
   "pygments_lexer": "ipython3",
   "version": "3.11.4"
  }
 },
 "nbformat": 4,
 "nbformat_minor": 5
}
