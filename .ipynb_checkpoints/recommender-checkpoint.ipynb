{
 "cells": [
  {
   "cell_type": "code",
   "execution_count": 1,
   "id": "3fac38cf",
   "metadata": {},
   "outputs": [],
   "source": [
    "import numpy as np\n",
    "import pandas as pd\n",
    "import matplotlib.pyplot as plt\n",
    "import seaborn as sns\n",
    "from sklearn.metrics.pairwise import cosine_similarity"
   ]
  },
  {
   "cell_type": "code",
   "execution_count": 2,
   "id": "34ee1735",
   "metadata": {},
   "outputs": [],
   "source": [
    "data = pd.read_csv(\"../../dataset/movies/IMDB.csv\")"
   ]
  },
  {
   "cell_type": "code",
   "execution_count": 3,
   "id": "ef3e54cb",
   "metadata": {},
   "outputs": [
    {
     "data": {
      "text/html": [
       "<div>\n",
       "<style scoped>\n",
       "    .dataframe tbody tr th:only-of-type {\n",
       "        vertical-align: middle;\n",
       "    }\n",
       "\n",
       "    .dataframe tbody tr th {\n",
       "        vertical-align: top;\n",
       "    }\n",
       "\n",
       "    .dataframe thead th {\n",
       "        text-align: right;\n",
       "    }\n",
       "</style>\n",
       "<table border=\"1\" class=\"dataframe\">\n",
       "  <thead>\n",
       "    <tr style=\"text-align: right;\">\n",
       "      <th></th>\n",
       "      <th>Unnamed: 0</th>\n",
       "      <th>index</th>\n",
       "      <th>tconst</th>\n",
       "      <th>titleType</th>\n",
       "      <th>primaryTitle</th>\n",
       "      <th>originalTitle</th>\n",
       "      <th>isAdult</th>\n",
       "      <th>startYear</th>\n",
       "      <th>endYear</th>\n",
       "      <th>runtimeMinutes</th>\n",
       "      <th>...</th>\n",
       "      <th>averageRating</th>\n",
       "      <th>numVotes</th>\n",
       "      <th>ordering</th>\n",
       "      <th>title</th>\n",
       "      <th>region</th>\n",
       "      <th>language</th>\n",
       "      <th>types</th>\n",
       "      <th>attributes</th>\n",
       "      <th>isOriginalTitle</th>\n",
       "      <th>Description</th>\n",
       "    </tr>\n",
       "  </thead>\n",
       "  <tbody>\n",
       "    <tr>\n",
       "      <th>0</th>\n",
       "      <td>0</td>\n",
       "      <td>0</td>\n",
       "      <td>tt0102926</td>\n",
       "      <td>movie</td>\n",
       "      <td>The Silence of the Lambs</td>\n",
       "      <td>The Silence of the Lambs</td>\n",
       "      <td>0</td>\n",
       "      <td>1991</td>\n",
       "      <td>\\N</td>\n",
       "      <td>118</td>\n",
       "      <td>...</td>\n",
       "      <td>8.6</td>\n",
       "      <td>1473918</td>\n",
       "      <td>50</td>\n",
       "      <td>The Silence of the Lambs</td>\n",
       "      <td>US</td>\n",
       "      <td>en</td>\n",
       "      <td>\\N</td>\n",
       "      <td>\\N</td>\n",
       "      <td>0</td>\n",
       "      <td>Jodie Foster stars as Clarice Starling, a top ...</td>\n",
       "    </tr>\n",
       "    <tr>\n",
       "      <th>1</th>\n",
       "      <td>1</td>\n",
       "      <td>1</td>\n",
       "      <td>tt0103064</td>\n",
       "      <td>movie</td>\n",
       "      <td>Terminator 2: Judgment Day</td>\n",
       "      <td>Terminator 2: Judgment Day</td>\n",
       "      <td>0</td>\n",
       "      <td>1991</td>\n",
       "      <td>\\N</td>\n",
       "      <td>137</td>\n",
       "      <td>...</td>\n",
       "      <td>8.6</td>\n",
       "      <td>1128166</td>\n",
       "      <td>17</td>\n",
       "      <td>Terminator 2: Judgment Day</td>\n",
       "      <td>US</td>\n",
       "      <td>en</td>\n",
       "      <td>dvd</td>\n",
       "      <td>\\N</td>\n",
       "      <td>0</td>\n",
       "      <td>In this sequel set eleven years after \"The Ter...</td>\n",
       "    </tr>\n",
       "    <tr>\n",
       "      <th>2</th>\n",
       "      <td>2</td>\n",
       "      <td>3</td>\n",
       "      <td>tt0110357</td>\n",
       "      <td>movie</td>\n",
       "      <td>The Lion King</td>\n",
       "      <td>The Lion King</td>\n",
       "      <td>0</td>\n",
       "      <td>1994</td>\n",
       "      <td>\\N</td>\n",
       "      <td>88</td>\n",
       "      <td>...</td>\n",
       "      <td>8.5</td>\n",
       "      <td>1090882</td>\n",
       "      <td>18</td>\n",
       "      <td>The Lion King 3D</td>\n",
       "      <td>US</td>\n",
       "      <td>en</td>\n",
       "      <td>\\N</td>\n",
       "      <td>3-D version</td>\n",
       "      <td>0</td>\n",
       "      <td>This Disney animated feature follows the adven...</td>\n",
       "    </tr>\n",
       "    <tr>\n",
       "      <th>3</th>\n",
       "      <td>3</td>\n",
       "      <td>4</td>\n",
       "      <td>tt0110912</td>\n",
       "      <td>movie</td>\n",
       "      <td>Pulp Fiction</td>\n",
       "      <td>Pulp Fiction</td>\n",
       "      <td>0</td>\n",
       "      <td>1994</td>\n",
       "      <td>\\N</td>\n",
       "      <td>154</td>\n",
       "      <td>...</td>\n",
       "      <td>8.9</td>\n",
       "      <td>2118762</td>\n",
       "      <td>22</td>\n",
       "      <td>Pulp Fiction</td>\n",
       "      <td>US</td>\n",
       "      <td>en</td>\n",
       "      <td>\\N</td>\n",
       "      <td>\\N</td>\n",
       "      <td>0</td>\n",
       "      <td>Vincent Vega (John Travolta) and Jules Winnfie...</td>\n",
       "    </tr>\n",
       "    <tr>\n",
       "      <th>4</th>\n",
       "      <td>4</td>\n",
       "      <td>5</td>\n",
       "      <td>tt0111161</td>\n",
       "      <td>movie</td>\n",
       "      <td>The Shawshank Redemption</td>\n",
       "      <td>The Shawshank Redemption</td>\n",
       "      <td>0</td>\n",
       "      <td>1994</td>\n",
       "      <td>\\N</td>\n",
       "      <td>142</td>\n",
       "      <td>...</td>\n",
       "      <td>9.3</td>\n",
       "      <td>2759621</td>\n",
       "      <td>2</td>\n",
       "      <td>The Shawshank Redemption</td>\n",
       "      <td>US</td>\n",
       "      <td>en</td>\n",
       "      <td>\\N</td>\n",
       "      <td>\\N</td>\n",
       "      <td>0</td>\n",
       "      <td>Andy Dufresne (Tim Robbins) is sentenced to tw...</td>\n",
       "    </tr>\n",
       "  </tbody>\n",
       "</table>\n",
       "<p>5 rows × 21 columns</p>\n",
       "</div>"
      ],
      "text/plain": [
       "   Unnamed: 0  index     tconst titleType                primaryTitle  \\\n",
       "0           0      0  tt0102926     movie    The Silence of the Lambs   \n",
       "1           1      1  tt0103064     movie  Terminator 2: Judgment Day   \n",
       "2           2      3  tt0110357     movie               The Lion King   \n",
       "3           3      4  tt0110912     movie                Pulp Fiction   \n",
       "4           4      5  tt0111161     movie    The Shawshank Redemption   \n",
       "\n",
       "                originalTitle  isAdult  startYear endYear runtimeMinutes  ...  \\\n",
       "0    The Silence of the Lambs        0       1991      \\N            118  ...   \n",
       "1  Terminator 2: Judgment Day        0       1991      \\N            137  ...   \n",
       "2               The Lion King        0       1994      \\N             88  ...   \n",
       "3                Pulp Fiction        0       1994      \\N            154  ...   \n",
       "4    The Shawshank Redemption        0       1994      \\N            142  ...   \n",
       "\n",
       "  averageRating  numVotes  ordering                       title region  \\\n",
       "0           8.6   1473918        50    The Silence of the Lambs     US   \n",
       "1           8.6   1128166        17  Terminator 2: Judgment Day     US   \n",
       "2           8.5   1090882        18            The Lion King 3D     US   \n",
       "3           8.9   2118762        22                Pulp Fiction     US   \n",
       "4           9.3   2759621         2    The Shawshank Redemption     US   \n",
       "\n",
       "  language types   attributes isOriginalTitle  \\\n",
       "0       en    \\N           \\N               0   \n",
       "1       en   dvd           \\N               0   \n",
       "2       en    \\N  3-D version               0   \n",
       "3       en    \\N           \\N               0   \n",
       "4       en    \\N           \\N               0   \n",
       "\n",
       "                                         Description  \n",
       "0  Jodie Foster stars as Clarice Starling, a top ...  \n",
       "1  In this sequel set eleven years after \"The Ter...  \n",
       "2  This Disney animated feature follows the adven...  \n",
       "3  Vincent Vega (John Travolta) and Jules Winnfie...  \n",
       "4  Andy Dufresne (Tim Robbins) is sentenced to tw...  \n",
       "\n",
       "[5 rows x 21 columns]"
      ]
     },
     "execution_count": 3,
     "metadata": {},
     "output_type": "execute_result"
    }
   ],
   "source": [
    "data.head()"
   ]
  },
  {
   "cell_type": "code",
   "execution_count": 4,
   "id": "53204a5c",
   "metadata": {},
   "outputs": [
    {
     "name": "stdout",
     "output_type": "stream",
     "text": [
      "<class 'pandas.core.frame.DataFrame'>\n",
      "RangeIndex: 7850 entries, 0 to 7849\n",
      "Data columns (total 21 columns):\n",
      " #   Column           Non-Null Count  Dtype  \n",
      "---  ------           --------------  -----  \n",
      " 0   Unnamed: 0       7850 non-null   int64  \n",
      " 1   index            7850 non-null   int64  \n",
      " 2   tconst           7850 non-null   object \n",
      " 3   titleType        7850 non-null   object \n",
      " 4   primaryTitle     7850 non-null   object \n",
      " 5   originalTitle    7850 non-null   object \n",
      " 6   isAdult          7850 non-null   int64  \n",
      " 7   startYear        7850 non-null   int64  \n",
      " 8   endYear          7850 non-null   object \n",
      " 9   runtimeMinutes   7850 non-null   object \n",
      " 10  genres           7850 non-null   object \n",
      " 11  averageRating    7850 non-null   float64\n",
      " 12  numVotes         7850 non-null   int64  \n",
      " 13  ordering         7850 non-null   int64  \n",
      " 14  title            7850 non-null   object \n",
      " 15  region           7850 non-null   object \n",
      " 16  language         7850 non-null   object \n",
      " 17  types            7850 non-null   object \n",
      " 18  attributes       7850 non-null   object \n",
      " 19  isOriginalTitle  7850 non-null   int64  \n",
      " 20  Description      7662 non-null   object \n",
      "dtypes: float64(1), int64(7), object(13)\n",
      "memory usage: 1.3+ MB\n"
     ]
    }
   ],
   "source": [
    "data.info()"
   ]
  },
  {
   "cell_type": "code",
   "execution_count": 5,
   "id": "897e4aa8",
   "metadata": {},
   "outputs": [
    {
     "data": {
      "text/html": [
       "<div>\n",
       "<style scoped>\n",
       "    .dataframe tbody tr th:only-of-type {\n",
       "        vertical-align: middle;\n",
       "    }\n",
       "\n",
       "    .dataframe tbody tr th {\n",
       "        vertical-align: top;\n",
       "    }\n",
       "\n",
       "    .dataframe thead th {\n",
       "        text-align: right;\n",
       "    }\n",
       "</style>\n",
       "<table border=\"1\" class=\"dataframe\">\n",
       "  <thead>\n",
       "    <tr style=\"text-align: right;\">\n",
       "      <th></th>\n",
       "      <th>Unnamed: 0</th>\n",
       "      <th>index</th>\n",
       "      <th>isAdult</th>\n",
       "      <th>startYear</th>\n",
       "      <th>averageRating</th>\n",
       "      <th>numVotes</th>\n",
       "      <th>ordering</th>\n",
       "      <th>isOriginalTitle</th>\n",
       "    </tr>\n",
       "  </thead>\n",
       "  <tbody>\n",
       "    <tr>\n",
       "      <th>count</th>\n",
       "      <td>7850.00000</td>\n",
       "      <td>7850.000000</td>\n",
       "      <td>7850.0</td>\n",
       "      <td>7850.000000</td>\n",
       "      <td>7850.000000</td>\n",
       "      <td>7.850000e+03</td>\n",
       "      <td>7850.000000</td>\n",
       "      <td>7850.0</td>\n",
       "    </tr>\n",
       "    <tr>\n",
       "      <th>mean</th>\n",
       "      <td>3924.50000</td>\n",
       "      <td>5286.804076</td>\n",
       "      <td>0.0</td>\n",
       "      <td>2013.204331</td>\n",
       "      <td>7.367605</td>\n",
       "      <td>7.527845e+04</td>\n",
       "      <td>16.440382</td>\n",
       "      <td>0.0</td>\n",
       "    </tr>\n",
       "    <tr>\n",
       "      <th>std</th>\n",
       "      <td>2266.24414</td>\n",
       "      <td>2851.482333</td>\n",
       "      <td>0.0</td>\n",
       "      <td>6.987697</td>\n",
       "      <td>0.605137</td>\n",
       "      <td>1.779794e+05</td>\n",
       "      <td>12.871290</td>\n",
       "      <td>0.0</td>\n",
       "    </tr>\n",
       "    <tr>\n",
       "      <th>min</th>\n",
       "      <td>0.00000</td>\n",
       "      <td>0.000000</td>\n",
       "      <td>0.0</td>\n",
       "      <td>1990.000000</td>\n",
       "      <td>6.500000</td>\n",
       "      <td>6.000000e+00</td>\n",
       "      <td>1.000000</td>\n",
       "      <td>0.0</td>\n",
       "    </tr>\n",
       "    <tr>\n",
       "      <th>25%</th>\n",
       "      <td>1962.25000</td>\n",
       "      <td>2847.250000</td>\n",
       "      <td>0.0</td>\n",
       "      <td>2008.000000</td>\n",
       "      <td>6.900000</td>\n",
       "      <td>6.035000e+03</td>\n",
       "      <td>6.000000</td>\n",
       "      <td>0.0</td>\n",
       "    </tr>\n",
       "    <tr>\n",
       "      <th>50%</th>\n",
       "      <td>3924.50000</td>\n",
       "      <td>5284.500000</td>\n",
       "      <td>0.0</td>\n",
       "      <td>2015.000000</td>\n",
       "      <td>7.300000</td>\n",
       "      <td>1.484150e+04</td>\n",
       "      <td>13.000000</td>\n",
       "      <td>0.0</td>\n",
       "    </tr>\n",
       "    <tr>\n",
       "      <th>75%</th>\n",
       "      <td>5886.75000</td>\n",
       "      <td>7602.750000</td>\n",
       "      <td>0.0</td>\n",
       "      <td>2019.000000</td>\n",
       "      <td>7.800000</td>\n",
       "      <td>5.660500e+04</td>\n",
       "      <td>24.000000</td>\n",
       "      <td>0.0</td>\n",
       "    </tr>\n",
       "    <tr>\n",
       "      <th>max</th>\n",
       "      <td>7849.00000</td>\n",
       "      <td>10274.000000</td>\n",
       "      <td>0.0</td>\n",
       "      <td>2023.000000</td>\n",
       "      <td>9.500000</td>\n",
       "      <td>2.759621e+06</td>\n",
       "      <td>119.000000</td>\n",
       "      <td>0.0</td>\n",
       "    </tr>\n",
       "  </tbody>\n",
       "</table>\n",
       "</div>"
      ],
      "text/plain": [
       "       Unnamed: 0         index  isAdult    startYear  averageRating  \\\n",
       "count  7850.00000   7850.000000   7850.0  7850.000000    7850.000000   \n",
       "mean   3924.50000   5286.804076      0.0  2013.204331       7.367605   \n",
       "std    2266.24414   2851.482333      0.0     6.987697       0.605137   \n",
       "min       0.00000      0.000000      0.0  1990.000000       6.500000   \n",
       "25%    1962.25000   2847.250000      0.0  2008.000000       6.900000   \n",
       "50%    3924.50000   5284.500000      0.0  2015.000000       7.300000   \n",
       "75%    5886.75000   7602.750000      0.0  2019.000000       7.800000   \n",
       "max    7849.00000  10274.000000      0.0  2023.000000       9.500000   \n",
       "\n",
       "           numVotes     ordering  isOriginalTitle  \n",
       "count  7.850000e+03  7850.000000           7850.0  \n",
       "mean   7.527845e+04    16.440382              0.0  \n",
       "std    1.779794e+05    12.871290              0.0  \n",
       "min    6.000000e+00     1.000000              0.0  \n",
       "25%    6.035000e+03     6.000000              0.0  \n",
       "50%    1.484150e+04    13.000000              0.0  \n",
       "75%    5.660500e+04    24.000000              0.0  \n",
       "max    2.759621e+06   119.000000              0.0  "
      ]
     },
     "execution_count": 5,
     "metadata": {},
     "output_type": "execute_result"
    }
   ],
   "source": [
    "data.describe()"
   ]
  },
  {
   "cell_type": "code",
   "execution_count": 6,
   "id": "26375b93",
   "metadata": {},
   "outputs": [],
   "source": [
    "data.drop([\"Unnamed: 0\", \"index\"], axis=1, inplace=True)"
   ]
  },
  {
   "cell_type": "code",
   "execution_count": 7,
   "id": "0fb6a12d",
   "metadata": {},
   "outputs": [],
   "source": [
    "y = data.title\n",
    "X = data.genres"
   ]
  },
  {
   "cell_type": "code",
   "execution_count": 8,
   "id": "5e02e9f3",
   "metadata": {},
   "outputs": [
    {
     "data": {
      "text/plain": [
       "0         Crime,Drama,Thriller\n",
       "1                Action,Sci-Fi\n",
       "2    Adventure,Animation,Drama\n",
       "3                  Crime,Drama\n",
       "4                        Drama\n",
       "Name: genres, dtype: object"
      ]
     },
     "execution_count": 8,
     "metadata": {},
     "output_type": "execute_result"
    }
   ],
   "source": [
    "X.head()"
   ]
  },
  {
   "cell_type": "code",
   "execution_count": 9,
   "id": "371c2413",
   "metadata": {},
   "outputs": [],
   "source": [
    "import re\n",
    "\n",
    "def genres(row):\n",
    "    categories = re.sub(\"-\",\"\",row).lower().split(\",\")\n",
    "    genres = \" \".join(categories)\n",
    "    return genres\n",
    "\n",
    "X = X.apply(genres)"
   ]
  },
  {
   "cell_type": "code",
   "execution_count": 10,
   "id": "f3359e9c",
   "metadata": {},
   "outputs": [
    {
     "data": {
      "text/plain": [
       "0         crime drama thriller\n",
       "1                 action scifi\n",
       "2    adventure animation drama\n",
       "3                  crime drama\n",
       "4                        drama\n",
       "Name: genres, dtype: object"
      ]
     },
     "execution_count": 10,
     "metadata": {},
     "output_type": "execute_result"
    }
   ],
   "source": [
    "X.head()"
   ]
  },
  {
   "cell_type": "code",
   "execution_count": 11,
   "id": "ea3f8a2a",
   "metadata": {},
   "outputs": [],
   "source": [
    "X.replace(\"\\\\N\", np.nan, inplace=True)"
   ]
  },
  {
   "cell_type": "code",
   "execution_count": 12,
   "id": "18924b93",
   "metadata": {},
   "outputs": [
    {
     "data": {
      "text/plain": [
       "title\n",
       "The Silence of the Lambs                     0\n",
       "Terminator 2: Judgment Day                   1\n",
       "The Lion King 3D                             2\n",
       "Pulp Fiction                                 3\n",
       "The Shawshank Redemption                     4\n",
       "                                          ... \n",
       "The Blonde One                            7845\n",
       "Trailer Park Boys: The Animated Series    7846\n",
       "Two of Us                                 7847\n",
       "Fin De Siglo                              7848\n",
       "Blown Away                                7849\n",
       "Length: 7850, dtype: int64"
      ]
     },
     "execution_count": 12,
     "metadata": {},
     "output_type": "execute_result"
    }
   ],
   "source": [
    "mov_idx = pd.Series(y.index, index=y)\n",
    "mov_idx"
   ]
  },
  {
   "cell_type": "code",
   "execution_count": 13,
   "id": "18c94c50",
   "metadata": {},
   "outputs": [
    {
     "data": {
      "text/plain": [
       "<7850x26 sparse matrix of type '<class 'numpy.float64'>'\n",
       "\twith 19314 stored elements in Compressed Sparse Row format>"
      ]
     },
     "execution_count": 13,
     "metadata": {},
     "output_type": "execute_result"
    }
   ],
   "source": [
    "from sklearn.feature_extraction.text import TfidfVectorizer\n",
    "\n",
    "tfidf = TfidfVectorizer()\n",
    "X = tfidf.fit_transform(X)\n",
    "X"
   ]
  },
  {
   "cell_type": "code",
   "execution_count": 16,
   "id": "6de88ff2",
   "metadata": {},
   "outputs": [],
   "source": [
    "def recommend(title):\n",
    "    \"\"\"Returns the top 5 recommended films for the user\n",
    "    inputs:\n",
    "        - title: a string of the film watched.\n",
    "    output:\n",
    "        - returns a list of 5 most recommended films related to the title.\n",
    "    \"\"\"\n",
    "    # locate the index of the movie title in the dataset\n",
    "    idx = mov_idx[title]\n",
    "    # if title appears multiple times, use the first occurence\n",
    "    if type(idx) == pd.Series:\n",
    "        idx = idx.iloc[0]\n",
    "    # use the idx to get hold of the location of the movie in the vector space\n",
    "    query = X[idx]\n",
    "    # calculate the distance with neighboring points\n",
    "    scores = cosine_similarity(query, X)\n",
    "    # align the distances\n",
    "    scores = scores.flatten()\n",
    "    # sort out the first 5 shortest distances\n",
    "    recommended_idx = (-scores).argsort()[1:6]\n",
    "    # return these shortest distances\n",
    "    return y.iloc[recommended_idx]"
   ]
  },
  {
   "cell_type": "code",
   "execution_count": 17,
   "id": "de72d0e9",
   "metadata": {},
   "outputs": [
    {
     "data": {
      "text/plain": [
       "2526                       The Silence\n",
       "5940                          Beartown\n",
       "2502                           Dhamaka\n",
       "2479                             Sunny\n",
       "5958    Beasts That Cling to the Straw\n",
       "Name: title, dtype: object"
      ]
     },
     "execution_count": 17,
     "metadata": {},
     "output_type": "execute_result"
    }
   ],
   "source": [
    "recommend(\"The Silence of the Lambs\")"
   ]
  },
  {
   "cell_type": "code",
   "execution_count": null,
   "id": "025b9f8f",
   "metadata": {},
   "outputs": [],
   "source": []
  }
 ],
 "metadata": {
  "kernelspec": {
   "display_name": "Python 3 (ipykernel)",
   "language": "python",
   "name": "python3"
  },
  "language_info": {
   "codemirror_mode": {
    "name": "ipython",
    "version": 3
   },
   "file_extension": ".py",
   "mimetype": "text/x-python",
   "name": "python",
   "nbconvert_exporter": "python",
   "pygments_lexer": "ipython3",
   "version": "3.11.4"
  }
 },
 "nbformat": 4,
 "nbformat_minor": 5
}
