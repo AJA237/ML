{
 "cells": [
  {
   "cell_type": "code",
   "execution_count": 2,
   "id": "662b360b",
   "metadata": {},
   "outputs": [],
   "source": [
    "# import tensorflow\n",
    "import keras\n",
    "from keras.preprocessing.image import ImageDataGenerator\n",
    "from keras.callbacks import EarlyStopping\n",
    "from keras.models import Sequential\n",
    "from keras.layers import Conv2D, Flatten, MaxPooling2D, Dense, Dropout, BatchNormalization, Activation\n",
    "# import numpy as np\n",
    "# import pandas as pd"
   ]
  },
  {
   "cell_type": "code",
   "execution_count": 10,
   "id": "10494567",
   "metadata": {},
   "outputs": [
    {
     "name": "stdout",
     "output_type": "stream",
     "text": [
      "Found 8000 images belonging to 2 classes.\n",
      "Found 2000 images belonging to 2 classes.\n"
     ]
    }
   ],
   "source": [
    "train_data = ImageDataGenerator(rescale=1./255, horizontal_flip=True, vertical_flip=True, rotation_range=45, zoom_range=0.2)\n",
    "train_generator = train_data.flow_from_directory(\"/home/aja/Documents/ML/dataset/dog_and_cat/dataset/training_set\", class_mode='binary', batch_size=50, target_size=(224, 224))\n",
    "test_data = ImageDataGenerator(rescale=1./255)\n",
    "valid_generator = test_data.flow_from_directory(\"/home/aja/Documents/ML/dataset/dog_and_cat/dataset/test_set\", target_size=(224, 224), class_mode='binary')\n"
   ]
  },
  {
   "cell_type": "code",
   "execution_count": 11,
   "id": "8bc0e669",
   "metadata": {},
   "outputs": [],
   "source": [
    "\n",
    "early_ending = EarlyStopping(min_delta=0.001, patience=10)\n"
   ]
  },
  {
   "cell_type": "code",
   "execution_count": 12,
   "id": "26b5a277",
   "metadata": {},
   "outputs": [],
   "source": [
    "model = Sequential()"
   ]
  },
  {
   "cell_type": "code",
   "execution_count": 13,
   "id": "24ffcd6a",
   "metadata": {},
   "outputs": [],
   "source": [
    "# feature extraction (base layer)\n",
    "model.add(Conv2D(filters=64, kernel_size=3, input_shape=[224, 224, 3]))\n",
    "model.add(Activation('relu'))\n",
    "model.add(BatchNormalization())\n",
    "model.add(MaxPooling2D(pool_size=2))\n",
    "model.add(Dropout(rate=0.2))\n",
    "model.add(Conv2D(filters=32, kernel_size=2))\n",
    "model.add(Activation('relu'))\n",
    "model.add(BatchNormalization())\n",
    "model.add(MaxPooling2D(pool_size=2))\n",
    "model.add(Dropout(rate=0.2))"
   ]
  },
  {
   "cell_type": "code",
   "execution_count": 14,
   "id": "2b453e55",
   "metadata": {},
   "outputs": [],
   "source": [
    "# head layer\n",
    "model.add(BatchNormalization())\n",
    "model.add(Dense(units=8, activation='relu'))\n",
    "model.add(Flatten())\n",
    "# model.add(Dense(units=2, activation='softmax'))\n",
    "model.add(Dense(units=1, activation='sigmoid'))\n"
   ]
  },
  {
   "cell_type": "code",
   "execution_count": 15,
   "id": "530f9cf7",
   "metadata": {},
   "outputs": [],
   "source": [
    "\n",
    "model.compile(optimizer=keras.optimizers.Adam(), metrics=[\"accuracy\"], loss=keras.metrics.BinaryCrossentropy())\n"
   ]
  },
  {
   "cell_type": "code",
   "execution_count": 16,
   "id": "4b9e4862",
   "metadata": {},
   "outputs": [
    {
     "name": "stdout",
     "output_type": "stream",
     "text": [
      "Epoch 1/5\n"
     ]
    },
    {
     "ename": "ValueError",
     "evalue": "in user code:\n\n    File \"/home/aja/anaconda3/lib/python3.11/site-packages/keras/src/engine/training.py\", line 1338, in train_function  *\n        return step_function(self, iterator)\n    File \"/home/aja/anaconda3/lib/python3.11/site-packages/keras/src/engine/training.py\", line 1322, in step_function  **\n        outputs = model.distribute_strategy.run(run_step, args=(data,))\n    File \"/home/aja/anaconda3/lib/python3.11/site-packages/keras/src/engine/training.py\", line 1303, in run_step  **\n        outputs = model.train_step(data)\n    File \"/home/aja/anaconda3/lib/python3.11/site-packages/keras/src/engine/training.py\", line 1084, in train_step\n        self.optimizer.minimize(loss, self.trainable_variables, tape=tape)\n    File \"/home/aja/anaconda3/lib/python3.11/site-packages/keras/src/optimizers/optimizer.py\", line 544, in minimize\n        self.apply_gradients(grads_and_vars)\n    File \"/home/aja/anaconda3/lib/python3.11/site-packages/keras/src/optimizers/optimizer.py\", line 1229, in apply_gradients\n        grads_and_vars = self.aggregate_gradients(grads_and_vars)\n    File \"/home/aja/anaconda3/lib/python3.11/site-packages/keras/src/optimizers/optimizer.py\", line 1191, in aggregate_gradients\n        return optimizer_utils.all_reduce_sum_gradients(grads_and_vars)\n    File \"/home/aja/anaconda3/lib/python3.11/site-packages/keras/src/optimizers/utils.py\", line 33, in all_reduce_sum_gradients\n        filtered_grads_and_vars = filter_empty_gradients(grads_and_vars)\n    File \"/home/aja/anaconda3/lib/python3.11/site-packages/keras/src/optimizers/utils.py\", line 77, in filter_empty_gradients\n        raise ValueError(\n\n    ValueError: No gradients provided for any variable: (['conv2d_2/kernel:0', 'conv2d_2/bias:0', 'batch_normalization_3/gamma:0', 'batch_normalization_3/beta:0', 'conv2d_3/kernel:0', 'conv2d_3/bias:0', 'batch_normalization_4/gamma:0', 'batch_normalization_4/beta:0', 'batch_normalization_5/gamma:0', 'batch_normalization_5/beta:0', 'dense_2/kernel:0', 'dense_2/bias:0', 'dense_3/kernel:0', 'dense_3/bias:0'],). Provided `grads_and_vars` is ((None, <tf.Variable 'conv2d_2/kernel:0' shape=(3, 3, 3, 64) dtype=float32>), (None, <tf.Variable 'conv2d_2/bias:0' shape=(64,) dtype=float32>), (None, <tf.Variable 'batch_normalization_3/gamma:0' shape=(64,) dtype=float32>), (None, <tf.Variable 'batch_normalization_3/beta:0' shape=(64,) dtype=float32>), (None, <tf.Variable 'conv2d_3/kernel:0' shape=(2, 2, 64, 32) dtype=float32>), (None, <tf.Variable 'conv2d_3/bias:0' shape=(32,) dtype=float32>), (None, <tf.Variable 'batch_normalization_4/gamma:0' shape=(32,) dtype=float32>), (None, <tf.Variable 'batch_normalization_4/beta:0' shape=(32,) dtype=float32>), (None, <tf.Variable 'batch_normalization_5/gamma:0' shape=(32,) dtype=float32>), (None, <tf.Variable 'batch_normalization_5/beta:0' shape=(32,) dtype=float32>), (None, <tf.Variable 'dense_2/kernel:0' shape=(32, 8) dtype=float32>), (None, <tf.Variable 'dense_2/bias:0' shape=(8,) dtype=float32>), (None, <tf.Variable 'dense_3/kernel:0' shape=(7688, 1) dtype=float32>), (None, <tf.Variable 'dense_3/bias:0' shape=(1,) dtype=float32>)).\n",
     "output_type": "error",
     "traceback": [
      "\u001b[0;31m---------------------------------------------------------------------------\u001b[0m",
      "\u001b[0;31mValueError\u001b[0m                                Traceback (most recent call last)",
      "Cell \u001b[0;32mIn[16], line 1\u001b[0m\n\u001b[0;32m----> 1\u001b[0m history \u001b[38;5;241m=\u001b[39m model\u001b[38;5;241m.\u001b[39mfit(train_generator, steps_per_epoch\u001b[38;5;241m=\u001b[39m\u001b[38;5;28mlen\u001b[39m(train_generator), epochs\u001b[38;5;241m=\u001b[39m\u001b[38;5;241m5\u001b[39m, callbacks\u001b[38;5;241m=\u001b[39m[early_ending])\n",
      "File \u001b[0;32m~/anaconda3/lib/python3.11/site-packages/keras/src/utils/traceback_utils.py:70\u001b[0m, in \u001b[0;36mfilter_traceback.<locals>.error_handler\u001b[0;34m(*args, **kwargs)\u001b[0m\n\u001b[1;32m     67\u001b[0m     filtered_tb \u001b[38;5;241m=\u001b[39m _process_traceback_frames(e\u001b[38;5;241m.\u001b[39m__traceback__)\n\u001b[1;32m     68\u001b[0m     \u001b[38;5;66;03m# To get the full stack trace, call:\u001b[39;00m\n\u001b[1;32m     69\u001b[0m     \u001b[38;5;66;03m# `tf.debugging.disable_traceback_filtering()`\u001b[39;00m\n\u001b[0;32m---> 70\u001b[0m     \u001b[38;5;28;01mraise\u001b[39;00m e\u001b[38;5;241m.\u001b[39mwith_traceback(filtered_tb) \u001b[38;5;28;01mfrom\u001b[39;00m \u001b[38;5;28;01mNone\u001b[39;00m\n\u001b[1;32m     71\u001b[0m \u001b[38;5;28;01mfinally\u001b[39;00m:\n\u001b[1;32m     72\u001b[0m     \u001b[38;5;28;01mdel\u001b[39;00m filtered_tb\n",
      "File \u001b[0;32m/tmp/__autograph_generated_fileb3oziboh.py:15\u001b[0m, in \u001b[0;36mouter_factory.<locals>.inner_factory.<locals>.tf__train_function\u001b[0;34m(iterator)\u001b[0m\n\u001b[1;32m     13\u001b[0m \u001b[38;5;28;01mtry\u001b[39;00m:\n\u001b[1;32m     14\u001b[0m     do_return \u001b[38;5;241m=\u001b[39m \u001b[38;5;28;01mTrue\u001b[39;00m\n\u001b[0;32m---> 15\u001b[0m     retval_ \u001b[38;5;241m=\u001b[39m ag__\u001b[38;5;241m.\u001b[39mconverted_call(ag__\u001b[38;5;241m.\u001b[39mld(step_function), (ag__\u001b[38;5;241m.\u001b[39mld(\u001b[38;5;28mself\u001b[39m), ag__\u001b[38;5;241m.\u001b[39mld(iterator)), \u001b[38;5;28;01mNone\u001b[39;00m, fscope)\n\u001b[1;32m     16\u001b[0m \u001b[38;5;28;01mexcept\u001b[39;00m:\n\u001b[1;32m     17\u001b[0m     do_return \u001b[38;5;241m=\u001b[39m \u001b[38;5;28;01mFalse\u001b[39;00m\n",
      "\u001b[0;31mValueError\u001b[0m: in user code:\n\n    File \"/home/aja/anaconda3/lib/python3.11/site-packages/keras/src/engine/training.py\", line 1338, in train_function  *\n        return step_function(self, iterator)\n    File \"/home/aja/anaconda3/lib/python3.11/site-packages/keras/src/engine/training.py\", line 1322, in step_function  **\n        outputs = model.distribute_strategy.run(run_step, args=(data,))\n    File \"/home/aja/anaconda3/lib/python3.11/site-packages/keras/src/engine/training.py\", line 1303, in run_step  **\n        outputs = model.train_step(data)\n    File \"/home/aja/anaconda3/lib/python3.11/site-packages/keras/src/engine/training.py\", line 1084, in train_step\n        self.optimizer.minimize(loss, self.trainable_variables, tape=tape)\n    File \"/home/aja/anaconda3/lib/python3.11/site-packages/keras/src/optimizers/optimizer.py\", line 544, in minimize\n        self.apply_gradients(grads_and_vars)\n    File \"/home/aja/anaconda3/lib/python3.11/site-packages/keras/src/optimizers/optimizer.py\", line 1229, in apply_gradients\n        grads_and_vars = self.aggregate_gradients(grads_and_vars)\n    File \"/home/aja/anaconda3/lib/python3.11/site-packages/keras/src/optimizers/optimizer.py\", line 1191, in aggregate_gradients\n        return optimizer_utils.all_reduce_sum_gradients(grads_and_vars)\n    File \"/home/aja/anaconda3/lib/python3.11/site-packages/keras/src/optimizers/utils.py\", line 33, in all_reduce_sum_gradients\n        filtered_grads_and_vars = filter_empty_gradients(grads_and_vars)\n    File \"/home/aja/anaconda3/lib/python3.11/site-packages/keras/src/optimizers/utils.py\", line 77, in filter_empty_gradients\n        raise ValueError(\n\n    ValueError: No gradients provided for any variable: (['conv2d_2/kernel:0', 'conv2d_2/bias:0', 'batch_normalization_3/gamma:0', 'batch_normalization_3/beta:0', 'conv2d_3/kernel:0', 'conv2d_3/bias:0', 'batch_normalization_4/gamma:0', 'batch_normalization_4/beta:0', 'batch_normalization_5/gamma:0', 'batch_normalization_5/beta:0', 'dense_2/kernel:0', 'dense_2/bias:0', 'dense_3/kernel:0', 'dense_3/bias:0'],). Provided `grads_and_vars` is ((None, <tf.Variable 'conv2d_2/kernel:0' shape=(3, 3, 3, 64) dtype=float32>), (None, <tf.Variable 'conv2d_2/bias:0' shape=(64,) dtype=float32>), (None, <tf.Variable 'batch_normalization_3/gamma:0' shape=(64,) dtype=float32>), (None, <tf.Variable 'batch_normalization_3/beta:0' shape=(64,) dtype=float32>), (None, <tf.Variable 'conv2d_3/kernel:0' shape=(2, 2, 64, 32) dtype=float32>), (None, <tf.Variable 'conv2d_3/bias:0' shape=(32,) dtype=float32>), (None, <tf.Variable 'batch_normalization_4/gamma:0' shape=(32,) dtype=float32>), (None, <tf.Variable 'batch_normalization_4/beta:0' shape=(32,) dtype=float32>), (None, <tf.Variable 'batch_normalization_5/gamma:0' shape=(32,) dtype=float32>), (None, <tf.Variable 'batch_normalization_5/beta:0' shape=(32,) dtype=float32>), (None, <tf.Variable 'dense_2/kernel:0' shape=(32, 8) dtype=float32>), (None, <tf.Variable 'dense_2/bias:0' shape=(8,) dtype=float32>), (None, <tf.Variable 'dense_3/kernel:0' shape=(7688, 1) dtype=float32>), (None, <tf.Variable 'dense_3/bias:0' shape=(1,) dtype=float32>)).\n"
     ]
    }
   ],
   "source": [
    "\n",
    "history = model.fit(train_generator, steps_per_epoch=len(train_generator), epochs=5, callbacks=[early_ending])\n"
   ]
  },
  {
   "cell_type": "code",
   "execution_count": null,
   "id": "bc2921ab",
   "metadata": {},
   "outputs": [],
   "source": []
  }
 ],
 "metadata": {
  "kernelspec": {
   "display_name": "Python 3 (ipykernel)",
   "language": "python",
   "name": "python3"
  },
  "language_info": {
   "codemirror_mode": {
    "name": "ipython",
    "version": 3
   },
   "file_extension": ".py",
   "mimetype": "text/x-python",
   "name": "python",
   "nbconvert_exporter": "python",
   "pygments_lexer": "ipython3",
   "version": "3.11.4"
  }
 },
 "nbformat": 4,
 "nbformat_minor": 5
}
